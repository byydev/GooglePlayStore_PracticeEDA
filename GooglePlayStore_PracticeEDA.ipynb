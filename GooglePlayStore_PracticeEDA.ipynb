{
 "cells": [
  {
   "cell_type": "code",
   "execution_count": 1,
   "id": "077a3d2b",
   "metadata": {
    "_cell_guid": "b1076dfc-b9ad-4769-8c92-a6c4dae69d19",
    "_uuid": "8f2839f25d086af736a60e9eeb907d3b93b6e0e5",
    "execution": {
     "iopub.execute_input": "2025-10-01T23:24:18.719382Z",
     "iopub.status.busy": "2025-10-01T23:24:18.719018Z",
     "iopub.status.idle": "2025-10-01T23:24:20.546185Z",
     "shell.execute_reply": "2025-10-01T23:24:20.545173Z"
    },
    "papermill": {
     "duration": 1.841835,
     "end_time": "2025-10-01T23:24:20.547747",
     "exception": false,
     "start_time": "2025-10-01T23:24:18.705912",
     "status": "completed"
    },
    "tags": []
   },
   "outputs": [
    {
     "name": "stdout",
     "output_type": "stream",
     "text": [
      "/kaggle/input/google-play-store-apps/googleplaystore.csv\n",
      "/kaggle/input/google-play-store-apps/license.txt\n",
      "/kaggle/input/google-play-store-apps/googleplaystore_user_reviews.csv\n"
     ]
    }
   ],
   "source": [
    "# This Python 3 environment comes with many helpful analytics libraries installed\n",
    "# It is defined by the kaggle/python Docker image: https://github.com/kaggle/docker-python\n",
    "# For example, here's several helpful packages to load\n",
    "\n",
    "import numpy as np # linear algebra\n",
    "import pandas as pd # data processing, CSV file I/O (e.g. pd.read_csv)\n",
    "\n",
    "# Input data files are available in the read-only \"../input/\" directory\n",
    "# For example, running this (by clicking run or pressing Shift+Enter) will list all files under the input directory\n",
    "\n",
    "import os\n",
    "for dirname, _, filenames in os.walk('/kaggle/input'):\n",
    "    for filename in filenames:\n",
    "        print(os.path.join(dirname, filename))\n",
    "\n",
    "# You can write up to 20GB to the current directory (/kaggle/working/) that gets preserved as output when you create a version using \"Save & Run All\" \n",
    "# You can also write temporary files to /kaggle/temp/, but they won't be saved outside of the current session"
   ]
  },
  {
   "cell_type": "code",
   "execution_count": 2,
   "id": "727ea8d6",
   "metadata": {
    "execution": {
     "iopub.execute_input": "2025-10-01T23:24:20.573316Z",
     "iopub.status.busy": "2025-10-01T23:24:20.572898Z",
     "iopub.status.idle": "2025-10-01T23:24:22.430441Z",
     "shell.execute_reply": "2025-10-01T23:24:22.429306Z"
    },
    "papermill": {
     "duration": 1.872723,
     "end_time": "2025-10-01T23:24:22.432192",
     "exception": false,
     "start_time": "2025-10-01T23:24:20.559469",
     "status": "completed"
    },
    "tags": []
   },
   "outputs": [],
   "source": [
    "import matplotlib.pyplot as plt\n",
    "import seaborn as sns\n",
    "df = pd.read_csv(\"/kaggle/input/google-play-store-apps/googleplaystore.csv\")"
   ]
  },
  {
   "cell_type": "code",
   "execution_count": 3,
   "id": "26b54649",
   "metadata": {
    "execution": {
     "iopub.execute_input": "2025-10-01T23:24:22.455659Z",
     "iopub.status.busy": "2025-10-01T23:24:22.455367Z",
     "iopub.status.idle": "2025-10-01T23:24:22.482145Z",
     "shell.execute_reply": "2025-10-01T23:24:22.481153Z"
    },
    "papermill": {
     "duration": 0.040288,
     "end_time": "2025-10-01T23:24:22.483719",
     "exception": false,
     "start_time": "2025-10-01T23:24:22.443431",
     "status": "completed"
    },
    "tags": []
   },
   "outputs": [
    {
     "data": {
      "text/html": [
       "<div>\n",
       "<style scoped>\n",
       "    .dataframe tbody tr th:only-of-type {\n",
       "        vertical-align: middle;\n",
       "    }\n",
       "\n",
       "    .dataframe tbody tr th {\n",
       "        vertical-align: top;\n",
       "    }\n",
       "\n",
       "    .dataframe thead th {\n",
       "        text-align: right;\n",
       "    }\n",
       "</style>\n",
       "<table border=\"1\" class=\"dataframe\">\n",
       "  <thead>\n",
       "    <tr style=\"text-align: right;\">\n",
       "      <th></th>\n",
       "      <th>App</th>\n",
       "      <th>Category</th>\n",
       "      <th>Rating</th>\n",
       "      <th>Reviews</th>\n",
       "      <th>Size</th>\n",
       "      <th>Installs</th>\n",
       "      <th>Type</th>\n",
       "      <th>Price</th>\n",
       "      <th>Content Rating</th>\n",
       "      <th>Genres</th>\n",
       "      <th>Last Updated</th>\n",
       "      <th>Current Ver</th>\n",
       "      <th>Android Ver</th>\n",
       "    </tr>\n",
       "  </thead>\n",
       "  <tbody>\n",
       "    <tr>\n",
       "      <th>0</th>\n",
       "      <td>Photo Editor &amp; Candy Camera &amp; Grid &amp; ScrapBook</td>\n",
       "      <td>ART_AND_DESIGN</td>\n",
       "      <td>4.1</td>\n",
       "      <td>159</td>\n",
       "      <td>19M</td>\n",
       "      <td>10,000+</td>\n",
       "      <td>Free</td>\n",
       "      <td>0</td>\n",
       "      <td>Everyone</td>\n",
       "      <td>Art &amp; Design</td>\n",
       "      <td>January 7, 2018</td>\n",
       "      <td>1.0.0</td>\n",
       "      <td>4.0.3 and up</td>\n",
       "    </tr>\n",
       "    <tr>\n",
       "      <th>1</th>\n",
       "      <td>Coloring book moana</td>\n",
       "      <td>ART_AND_DESIGN</td>\n",
       "      <td>3.9</td>\n",
       "      <td>967</td>\n",
       "      <td>14M</td>\n",
       "      <td>500,000+</td>\n",
       "      <td>Free</td>\n",
       "      <td>0</td>\n",
       "      <td>Everyone</td>\n",
       "      <td>Art &amp; Design;Pretend Play</td>\n",
       "      <td>January 15, 2018</td>\n",
       "      <td>2.0.0</td>\n",
       "      <td>4.0.3 and up</td>\n",
       "    </tr>\n",
       "    <tr>\n",
       "      <th>2</th>\n",
       "      <td>U Launcher Lite – FREE Live Cool Themes, Hide ...</td>\n",
       "      <td>ART_AND_DESIGN</td>\n",
       "      <td>4.7</td>\n",
       "      <td>87510</td>\n",
       "      <td>8.7M</td>\n",
       "      <td>5,000,000+</td>\n",
       "      <td>Free</td>\n",
       "      <td>0</td>\n",
       "      <td>Everyone</td>\n",
       "      <td>Art &amp; Design</td>\n",
       "      <td>August 1, 2018</td>\n",
       "      <td>1.2.4</td>\n",
       "      <td>4.0.3 and up</td>\n",
       "    </tr>\n",
       "    <tr>\n",
       "      <th>3</th>\n",
       "      <td>Sketch - Draw &amp; Paint</td>\n",
       "      <td>ART_AND_DESIGN</td>\n",
       "      <td>4.5</td>\n",
       "      <td>215644</td>\n",
       "      <td>25M</td>\n",
       "      <td>50,000,000+</td>\n",
       "      <td>Free</td>\n",
       "      <td>0</td>\n",
       "      <td>Teen</td>\n",
       "      <td>Art &amp; Design</td>\n",
       "      <td>June 8, 2018</td>\n",
       "      <td>Varies with device</td>\n",
       "      <td>4.2 and up</td>\n",
       "    </tr>\n",
       "    <tr>\n",
       "      <th>4</th>\n",
       "      <td>Pixel Draw - Number Art Coloring Book</td>\n",
       "      <td>ART_AND_DESIGN</td>\n",
       "      <td>4.3</td>\n",
       "      <td>967</td>\n",
       "      <td>2.8M</td>\n",
       "      <td>100,000+</td>\n",
       "      <td>Free</td>\n",
       "      <td>0</td>\n",
       "      <td>Everyone</td>\n",
       "      <td>Art &amp; Design;Creativity</td>\n",
       "      <td>June 20, 2018</td>\n",
       "      <td>1.1</td>\n",
       "      <td>4.4 and up</td>\n",
       "    </tr>\n",
       "  </tbody>\n",
       "</table>\n",
       "</div>"
      ],
      "text/plain": [
       "                                                 App        Category  Rating  \\\n",
       "0     Photo Editor & Candy Camera & Grid & ScrapBook  ART_AND_DESIGN     4.1   \n",
       "1                                Coloring book moana  ART_AND_DESIGN     3.9   \n",
       "2  U Launcher Lite – FREE Live Cool Themes, Hide ...  ART_AND_DESIGN     4.7   \n",
       "3                              Sketch - Draw & Paint  ART_AND_DESIGN     4.5   \n",
       "4              Pixel Draw - Number Art Coloring Book  ART_AND_DESIGN     4.3   \n",
       "\n",
       "  Reviews  Size     Installs  Type Price Content Rating  \\\n",
       "0     159   19M      10,000+  Free     0       Everyone   \n",
       "1     967   14M     500,000+  Free     0       Everyone   \n",
       "2   87510  8.7M   5,000,000+  Free     0       Everyone   \n",
       "3  215644   25M  50,000,000+  Free     0           Teen   \n",
       "4     967  2.8M     100,000+  Free     0       Everyone   \n",
       "\n",
       "                      Genres      Last Updated         Current Ver  \\\n",
       "0               Art & Design   January 7, 2018               1.0.0   \n",
       "1  Art & Design;Pretend Play  January 15, 2018               2.0.0   \n",
       "2               Art & Design    August 1, 2018               1.2.4   \n",
       "3               Art & Design      June 8, 2018  Varies with device   \n",
       "4    Art & Design;Creativity     June 20, 2018                 1.1   \n",
       "\n",
       "    Android Ver  \n",
       "0  4.0.3 and up  \n",
       "1  4.0.3 and up  \n",
       "2  4.0.3 and up  \n",
       "3    4.2 and up  \n",
       "4    4.4 and up  "
      ]
     },
     "execution_count": 3,
     "metadata": {},
     "output_type": "execute_result"
    }
   ],
   "source": [
    "df.head()"
   ]
  },
  {
   "cell_type": "code",
   "execution_count": 4,
   "id": "13df2dbe",
   "metadata": {
    "execution": {
     "iopub.execute_input": "2025-10-01T23:24:22.508414Z",
     "iopub.status.busy": "2025-10-01T23:24:22.508088Z",
     "iopub.status.idle": "2025-10-01T23:24:22.514975Z",
     "shell.execute_reply": "2025-10-01T23:24:22.514254Z"
    },
    "papermill": {
     "duration": 0.020732,
     "end_time": "2025-10-01T23:24:22.516367",
     "exception": false,
     "start_time": "2025-10-01T23:24:22.495635",
     "status": "completed"
    },
    "tags": []
   },
   "outputs": [
    {
     "data": {
      "text/plain": [
       "Index(['App', 'Category', 'Rating', 'Reviews', 'Size', 'Installs', 'Type',\n",
       "       'Price', 'Content Rating', 'Genres', 'Last Updated', 'Current Ver',\n",
       "       'Android Ver'],\n",
       "      dtype='object')"
      ]
     },
     "execution_count": 4,
     "metadata": {},
     "output_type": "execute_result"
    }
   ],
   "source": [
    "df.columns"
   ]
  },
  {
   "cell_type": "code",
   "execution_count": 5,
   "id": "10f02d1f",
   "metadata": {
    "execution": {
     "iopub.execute_input": "2025-10-01T23:24:22.540992Z",
     "iopub.status.busy": "2025-10-01T23:24:22.540680Z",
     "iopub.status.idle": "2025-10-01T23:24:22.546204Z",
     "shell.execute_reply": "2025-10-01T23:24:22.545372Z"
    },
    "papermill": {
     "duration": 0.019495,
     "end_time": "2025-10-01T23:24:22.547665",
     "exception": false,
     "start_time": "2025-10-01T23:24:22.528170",
     "status": "completed"
    },
    "tags": []
   },
   "outputs": [
    {
     "data": {
      "text/plain": [
       "(10841, 13)"
      ]
     },
     "execution_count": 5,
     "metadata": {},
     "output_type": "execute_result"
    }
   ],
   "source": [
    "df.shape"
   ]
  },
  {
   "cell_type": "code",
   "execution_count": 6,
   "id": "f80456b6",
   "metadata": {
    "execution": {
     "iopub.execute_input": "2025-10-01T23:24:22.573095Z",
     "iopub.status.busy": "2025-10-01T23:24:22.572731Z",
     "iopub.status.idle": "2025-10-01T23:24:22.599359Z",
     "shell.execute_reply": "2025-10-01T23:24:22.598190Z"
    },
    "papermill": {
     "duration": 0.041204,
     "end_time": "2025-10-01T23:24:22.601148",
     "exception": false,
     "start_time": "2025-10-01T23:24:22.559944",
     "status": "completed"
    },
    "tags": []
   },
   "outputs": [
    {
     "name": "stdout",
     "output_type": "stream",
     "text": [
      "<class 'pandas.core.frame.DataFrame'>\n",
      "RangeIndex: 10841 entries, 0 to 10840\n",
      "Data columns (total 13 columns):\n",
      " #   Column          Non-Null Count  Dtype  \n",
      "---  ------          --------------  -----  \n",
      " 0   App             10841 non-null  object \n",
      " 1   Category        10841 non-null  object \n",
      " 2   Rating          9367 non-null   float64\n",
      " 3   Reviews         10841 non-null  object \n",
      " 4   Size            10841 non-null  object \n",
      " 5   Installs        10841 non-null  object \n",
      " 6   Type            10840 non-null  object \n",
      " 7   Price           10841 non-null  object \n",
      " 8   Content Rating  10840 non-null  object \n",
      " 9   Genres          10841 non-null  object \n",
      " 10  Last Updated    10841 non-null  object \n",
      " 11  Current Ver     10833 non-null  object \n",
      " 12  Android Ver     10838 non-null  object \n",
      "dtypes: float64(1), object(12)\n",
      "memory usage: 1.1+ MB\n"
     ]
    }
   ],
   "source": [
    "df.info()"
   ]
  },
  {
   "cell_type": "code",
   "execution_count": 7,
   "id": "0e994048",
   "metadata": {
    "execution": {
     "iopub.execute_input": "2025-10-01T23:24:22.626535Z",
     "iopub.status.busy": "2025-10-01T23:24:22.626191Z",
     "iopub.status.idle": "2025-10-01T23:24:22.646988Z",
     "shell.execute_reply": "2025-10-01T23:24:22.646126Z"
    },
    "papermill": {
     "duration": 0.035291,
     "end_time": "2025-10-01T23:24:22.648598",
     "exception": false,
     "start_time": "2025-10-01T23:24:22.613307",
     "status": "completed"
    },
    "tags": []
   },
   "outputs": [
    {
     "data": {
      "text/html": [
       "<div>\n",
       "<style scoped>\n",
       "    .dataframe tbody tr th:only-of-type {\n",
       "        vertical-align: middle;\n",
       "    }\n",
       "\n",
       "    .dataframe tbody tr th {\n",
       "        vertical-align: top;\n",
       "    }\n",
       "\n",
       "    .dataframe thead th {\n",
       "        text-align: right;\n",
       "    }\n",
       "</style>\n",
       "<table border=\"1\" class=\"dataframe\">\n",
       "  <thead>\n",
       "    <tr style=\"text-align: right;\">\n",
       "      <th></th>\n",
       "      <th>Rating</th>\n",
       "    </tr>\n",
       "  </thead>\n",
       "  <tbody>\n",
       "    <tr>\n",
       "      <th>count</th>\n",
       "      <td>9367.000000</td>\n",
       "    </tr>\n",
       "    <tr>\n",
       "      <th>mean</th>\n",
       "      <td>4.193338</td>\n",
       "    </tr>\n",
       "    <tr>\n",
       "      <th>std</th>\n",
       "      <td>0.537431</td>\n",
       "    </tr>\n",
       "    <tr>\n",
       "      <th>min</th>\n",
       "      <td>1.000000</td>\n",
       "    </tr>\n",
       "    <tr>\n",
       "      <th>25%</th>\n",
       "      <td>4.000000</td>\n",
       "    </tr>\n",
       "    <tr>\n",
       "      <th>50%</th>\n",
       "      <td>4.300000</td>\n",
       "    </tr>\n",
       "    <tr>\n",
       "      <th>75%</th>\n",
       "      <td>4.500000</td>\n",
       "    </tr>\n",
       "    <tr>\n",
       "      <th>max</th>\n",
       "      <td>19.000000</td>\n",
       "    </tr>\n",
       "  </tbody>\n",
       "</table>\n",
       "</div>"
      ],
      "text/plain": [
       "            Rating\n",
       "count  9367.000000\n",
       "mean      4.193338\n",
       "std       0.537431\n",
       "min       1.000000\n",
       "25%       4.000000\n",
       "50%       4.300000\n",
       "75%       4.500000\n",
       "max      19.000000"
      ]
     },
     "execution_count": 7,
     "metadata": {},
     "output_type": "execute_result"
    }
   ],
   "source": [
    "df.describe()"
   ]
  },
  {
   "cell_type": "code",
   "execution_count": 8,
   "id": "da149321",
   "metadata": {
    "execution": {
     "iopub.execute_input": "2025-10-01T23:24:22.674487Z",
     "iopub.status.busy": "2025-10-01T23:24:22.674191Z",
     "iopub.status.idle": "2025-10-01T23:24:22.688575Z",
     "shell.execute_reply": "2025-10-01T23:24:22.687662Z"
    },
    "papermill": {
     "duration": 0.029398,
     "end_time": "2025-10-01T23:24:22.690282",
     "exception": false,
     "start_time": "2025-10-01T23:24:22.660884",
     "status": "completed"
    },
    "tags": []
   },
   "outputs": [
    {
     "data": {
      "text/plain": [
       "App                  0\n",
       "Category             0\n",
       "Rating            1474\n",
       "Reviews              0\n",
       "Size                 0\n",
       "Installs             0\n",
       "Type                 1\n",
       "Price                0\n",
       "Content Rating       1\n",
       "Genres               0\n",
       "Last Updated         0\n",
       "Current Ver          8\n",
       "Android Ver          3\n",
       "dtype: int64"
      ]
     },
     "execution_count": 8,
     "metadata": {},
     "output_type": "execute_result"
    }
   ],
   "source": [
    "## missing values\n",
    "df.isnull().sum()"
   ]
  },
  {
   "cell_type": "code",
   "execution_count": 9,
   "id": "f26fa124",
   "metadata": {
    "execution": {
     "iopub.execute_input": "2025-10-01T23:24:22.717691Z",
     "iopub.status.busy": "2025-10-01T23:24:22.717411Z",
     "iopub.status.idle": "2025-10-01T23:24:22.727923Z",
     "shell.execute_reply": "2025-10-01T23:24:22.727191Z"
    },
    "papermill": {
     "duration": 0.024768,
     "end_time": "2025-10-01T23:24:22.729262",
     "exception": false,
     "start_time": "2025-10-01T23:24:22.704494",
     "status": "completed"
    },
    "tags": []
   },
   "outputs": [
    {
     "data": {
      "text/plain": [
       "Reviews\n",
       "0         596\n",
       "1         272\n",
       "2         214\n",
       "3         175\n",
       "4         137\n",
       "         ... \n",
       "342912      1\n",
       "4272        1\n",
       "5517        1\n",
       "4057        1\n",
       "398307      1\n",
       "Name: count, Length: 6002, dtype: int64"
      ]
     },
     "execution_count": 9,
     "metadata": {},
     "output_type": "execute_result"
    }
   ],
   "source": [
    "df[\"Reviews\"].value_counts()"
   ]
  },
  {
   "cell_type": "code",
   "execution_count": 10,
   "id": "ca5cdb22",
   "metadata": {
    "execution": {
     "iopub.execute_input": "2025-10-01T23:24:22.754917Z",
     "iopub.status.busy": "2025-10-01T23:24:22.754291Z",
     "iopub.status.idle": "2025-10-01T23:24:22.760579Z",
     "shell.execute_reply": "2025-10-01T23:24:22.759858Z"
    },
    "papermill": {
     "duration": 0.020678,
     "end_time": "2025-10-01T23:24:22.761946",
     "exception": false,
     "start_time": "2025-10-01T23:24:22.741268",
     "status": "completed"
    },
    "tags": []
   },
   "outputs": [
    {
     "data": {
      "text/plain": [
       "array(['159', '967', '87510', ..., '603', '1195', '398307'], dtype=object)"
      ]
     },
     "execution_count": 10,
     "metadata": {},
     "output_type": "execute_result"
    }
   ],
   "source": [
    "df[\"Reviews\"].unique()"
   ]
  },
  {
   "cell_type": "code",
   "execution_count": 11,
   "id": "e4116420",
   "metadata": {
    "execution": {
     "iopub.execute_input": "2025-10-01T23:24:22.788577Z",
     "iopub.status.busy": "2025-10-01T23:24:22.788255Z",
     "iopub.status.idle": "2025-10-01T23:24:22.792353Z",
     "shell.execute_reply": "2025-10-01T23:24:22.791517Z"
    },
    "papermill": {
     "duration": 0.019047,
     "end_time": "2025-10-01T23:24:22.793710",
     "exception": false,
     "start_time": "2025-10-01T23:24:22.774663",
     "status": "completed"
    },
    "tags": []
   },
   "outputs": [],
   "source": [
    "# Elements are numeric but dtype is string\n",
    "# df[\"Reviews\"]=df[\"Reviews\"].astype(int)\n",
    "# We cant change to int because we got ValueError. \n",
    "# Invalid literal for int() with base 10: '3.0M'"
   ]
  },
  {
   "cell_type": "code",
   "execution_count": 12,
   "id": "eda3555b",
   "metadata": {
    "execution": {
     "iopub.execute_input": "2025-10-01T23:24:22.819022Z",
     "iopub.status.busy": "2025-10-01T23:24:22.818702Z",
     "iopub.status.idle": "2025-10-01T23:24:22.827525Z",
     "shell.execute_reply": "2025-10-01T23:24:22.826574Z"
    },
    "papermill": {
     "duration": 0.02343,
     "end_time": "2025-10-01T23:24:22.829253",
     "exception": false,
     "start_time": "2025-10-01T23:24:22.805823",
     "status": "completed"
    },
    "tags": []
   },
   "outputs": [
    {
     "data": {
      "text/plain": [
       "10840"
      ]
     },
     "execution_count": 12,
     "metadata": {},
     "output_type": "execute_result"
    }
   ],
   "source": [
    "df[\"Reviews\"].str.isnumeric().sum()"
   ]
  },
  {
   "cell_type": "code",
   "execution_count": 13,
   "id": "fc6da2d1",
   "metadata": {
    "execution": {
     "iopub.execute_input": "2025-10-01T23:24:22.918865Z",
     "iopub.status.busy": "2025-10-01T23:24:22.918570Z",
     "iopub.status.idle": "2025-10-01T23:24:22.935808Z",
     "shell.execute_reply": "2025-10-01T23:24:22.935134Z"
    },
    "papermill": {
     "duration": 0.031745,
     "end_time": "2025-10-01T23:24:22.937448",
     "exception": false,
     "start_time": "2025-10-01T23:24:22.905703",
     "status": "completed"
    },
    "tags": []
   },
   "outputs": [
    {
     "data": {
      "text/html": [
       "<div>\n",
       "<style scoped>\n",
       "    .dataframe tbody tr th:only-of-type {\n",
       "        vertical-align: middle;\n",
       "    }\n",
       "\n",
       "    .dataframe tbody tr th {\n",
       "        vertical-align: top;\n",
       "    }\n",
       "\n",
       "    .dataframe thead th {\n",
       "        text-align: right;\n",
       "    }\n",
       "</style>\n",
       "<table border=\"1\" class=\"dataframe\">\n",
       "  <thead>\n",
       "    <tr style=\"text-align: right;\">\n",
       "      <th></th>\n",
       "      <th>App</th>\n",
       "      <th>Category</th>\n",
       "      <th>Rating</th>\n",
       "      <th>Reviews</th>\n",
       "      <th>Size</th>\n",
       "      <th>Installs</th>\n",
       "      <th>Type</th>\n",
       "      <th>Price</th>\n",
       "      <th>Content Rating</th>\n",
       "      <th>Genres</th>\n",
       "      <th>Last Updated</th>\n",
       "      <th>Current Ver</th>\n",
       "      <th>Android Ver</th>\n",
       "    </tr>\n",
       "  </thead>\n",
       "  <tbody>\n",
       "    <tr>\n",
       "      <th>10472</th>\n",
       "      <td>Life Made WI-Fi Touchscreen Photo Frame</td>\n",
       "      <td>1.9</td>\n",
       "      <td>19.0</td>\n",
       "      <td>3.0M</td>\n",
       "      <td>1,000+</td>\n",
       "      <td>Free</td>\n",
       "      <td>0</td>\n",
       "      <td>Everyone</td>\n",
       "      <td>NaN</td>\n",
       "      <td>February 11, 2018</td>\n",
       "      <td>1.0.19</td>\n",
       "      <td>4.0 and up</td>\n",
       "      <td>NaN</td>\n",
       "    </tr>\n",
       "  </tbody>\n",
       "</table>\n",
       "</div>"
      ],
      "text/plain": [
       "                                           App Category  Rating Reviews  \\\n",
       "10472  Life Made WI-Fi Touchscreen Photo Frame      1.9    19.0    3.0M   \n",
       "\n",
       "         Size Installs Type     Price Content Rating             Genres  \\\n",
       "10472  1,000+     Free    0  Everyone            NaN  February 11, 2018   \n",
       "\n",
       "      Last Updated Current Ver Android Ver  \n",
       "10472       1.0.19  4.0 and up         NaN  "
      ]
     },
     "execution_count": 13,
     "metadata": {},
     "output_type": "execute_result"
    }
   ],
   "source": [
    "#10840 numeric elements out of 10841, only one row should be str\n",
    "df[~df[\"Reviews\"].str.isnumeric()] # ~ (tilde) operator inverts the boolean series"
   ]
  },
  {
   "cell_type": "code",
   "execution_count": 14,
   "id": "fbb3db40",
   "metadata": {
    "execution": {
     "iopub.execute_input": "2025-10-01T23:24:22.963197Z",
     "iopub.status.busy": "2025-10-01T23:24:22.962910Z",
     "iopub.status.idle": "2025-10-01T23:24:22.967520Z",
     "shell.execute_reply": "2025-10-01T23:24:22.966827Z"
    },
    "papermill": {
     "duration": 0.019083,
     "end_time": "2025-10-01T23:24:22.968921",
     "exception": false,
     "start_time": "2025-10-01T23:24:22.949838",
     "status": "completed"
    },
    "tags": []
   },
   "outputs": [],
   "source": [
    "df_clean = df.copy()"
   ]
  },
  {
   "cell_type": "code",
   "execution_count": 15,
   "id": "3700a96f",
   "metadata": {
    "execution": {
     "iopub.execute_input": "2025-10-01T23:24:22.995259Z",
     "iopub.status.busy": "2025-10-01T23:24:22.994970Z",
     "iopub.status.idle": "2025-10-01T23:24:23.001978Z",
     "shell.execute_reply": "2025-10-01T23:24:23.001228Z"
    },
    "papermill": {
     "duration": 0.021904,
     "end_time": "2025-10-01T23:24:23.003250",
     "exception": false,
     "start_time": "2025-10-01T23:24:22.981346",
     "status": "completed"
    },
    "tags": []
   },
   "outputs": [],
   "source": [
    "df_clean = df_clean.drop(df_clean.index[10472])"
   ]
  },
  {
   "cell_type": "code",
   "execution_count": 16,
   "id": "336c184c",
   "metadata": {
    "execution": {
     "iopub.execute_input": "2025-10-01T23:24:23.029775Z",
     "iopub.status.busy": "2025-10-01T23:24:23.029495Z",
     "iopub.status.idle": "2025-10-01T23:24:23.041081Z",
     "shell.execute_reply": "2025-10-01T23:24:23.040222Z"
    },
    "papermill": {
     "duration": 0.026903,
     "end_time": "2025-10-01T23:24:23.042616",
     "exception": false,
     "start_time": "2025-10-01T23:24:23.015713",
     "status": "completed"
    },
    "tags": []
   },
   "outputs": [
    {
     "data": {
      "text/html": [
       "<div>\n",
       "<style scoped>\n",
       "    .dataframe tbody tr th:only-of-type {\n",
       "        vertical-align: middle;\n",
       "    }\n",
       "\n",
       "    .dataframe tbody tr th {\n",
       "        vertical-align: top;\n",
       "    }\n",
       "\n",
       "    .dataframe thead th {\n",
       "        text-align: right;\n",
       "    }\n",
       "</style>\n",
       "<table border=\"1\" class=\"dataframe\">\n",
       "  <thead>\n",
       "    <tr style=\"text-align: right;\">\n",
       "      <th></th>\n",
       "      <th>App</th>\n",
       "      <th>Category</th>\n",
       "      <th>Rating</th>\n",
       "      <th>Reviews</th>\n",
       "      <th>Size</th>\n",
       "      <th>Installs</th>\n",
       "      <th>Type</th>\n",
       "      <th>Price</th>\n",
       "      <th>Content Rating</th>\n",
       "      <th>Genres</th>\n",
       "      <th>Last Updated</th>\n",
       "      <th>Current Ver</th>\n",
       "      <th>Android Ver</th>\n",
       "    </tr>\n",
       "  </thead>\n",
       "  <tbody>\n",
       "  </tbody>\n",
       "</table>\n",
       "</div>"
      ],
      "text/plain": [
       "Empty DataFrame\n",
       "Columns: [App, Category, Rating, Reviews, Size, Installs, Type, Price, Content Rating, Genres, Last Updated, Current Ver, Android Ver]\n",
       "Index: []"
      ]
     },
     "execution_count": 16,
     "metadata": {},
     "output_type": "execute_result"
    }
   ],
   "source": [
    "df_clean[~df_clean[\"Reviews\"].str.isnumeric()]"
   ]
  },
  {
   "cell_type": "code",
   "execution_count": 17,
   "id": "50c9e982",
   "metadata": {
    "execution": {
     "iopub.execute_input": "2025-10-01T23:24:23.069159Z",
     "iopub.status.busy": "2025-10-01T23:24:23.068268Z",
     "iopub.status.idle": "2025-10-01T23:24:23.074374Z",
     "shell.execute_reply": "2025-10-01T23:24:23.073701Z"
    },
    "papermill": {
     "duration": 0.020568,
     "end_time": "2025-10-01T23:24:23.075765",
     "exception": false,
     "start_time": "2025-10-01T23:24:23.055197",
     "status": "completed"
    },
    "tags": []
   },
   "outputs": [],
   "source": [
    "df_clean[\"Reviews\"] = df_clean[\"Reviews\"].astype(int)"
   ]
  },
  {
   "cell_type": "code",
   "execution_count": 18,
   "id": "54b4c39f",
   "metadata": {
    "execution": {
     "iopub.execute_input": "2025-10-01T23:24:23.102976Z",
     "iopub.status.busy": "2025-10-01T23:24:23.102141Z",
     "iopub.status.idle": "2025-10-01T23:24:23.119458Z",
     "shell.execute_reply": "2025-10-01T23:24:23.118259Z"
    },
    "papermill": {
     "duration": 0.032603,
     "end_time": "2025-10-01T23:24:23.121023",
     "exception": false,
     "start_time": "2025-10-01T23:24:23.088420",
     "status": "completed"
    },
    "tags": []
   },
   "outputs": [
    {
     "name": "stdout",
     "output_type": "stream",
     "text": [
      "<class 'pandas.core.frame.DataFrame'>\n",
      "Index: 10840 entries, 0 to 10840\n",
      "Data columns (total 13 columns):\n",
      " #   Column          Non-Null Count  Dtype  \n",
      "---  ------          --------------  -----  \n",
      " 0   App             10840 non-null  object \n",
      " 1   Category        10840 non-null  object \n",
      " 2   Rating          9366 non-null   float64\n",
      " 3   Reviews         10840 non-null  int64  \n",
      " 4   Size            10840 non-null  object \n",
      " 5   Installs        10840 non-null  object \n",
      " 6   Type            10839 non-null  object \n",
      " 7   Price           10840 non-null  object \n",
      " 8   Content Rating  10840 non-null  object \n",
      " 9   Genres          10840 non-null  object \n",
      " 10  Last Updated    10840 non-null  object \n",
      " 11  Current Ver     10832 non-null  object \n",
      " 12  Android Ver     10838 non-null  object \n",
      "dtypes: float64(1), int64(1), object(11)\n",
      "memory usage: 1.2+ MB\n"
     ]
    }
   ],
   "source": [
    "df_clean.info()"
   ]
  },
  {
   "cell_type": "code",
   "execution_count": 19,
   "id": "e25ebda3",
   "metadata": {
    "execution": {
     "iopub.execute_input": "2025-10-01T23:24:23.147659Z",
     "iopub.status.busy": "2025-10-01T23:24:23.147366Z",
     "iopub.status.idle": "2025-10-01T23:24:23.155567Z",
     "shell.execute_reply": "2025-10-01T23:24:23.154750Z"
    },
    "papermill": {
     "duration": 0.022997,
     "end_time": "2025-10-01T23:24:23.157095",
     "exception": false,
     "start_time": "2025-10-01T23:24:23.134098",
     "status": "completed"
    },
    "tags": []
   },
   "outputs": [
    {
     "data": {
      "text/plain": [
       "Size\n",
       "Varies with device    1695\n",
       "11M                    198\n",
       "12M                    196\n",
       "14M                    194\n",
       "13M                    191\n",
       "                      ... \n",
       "430k                     1\n",
       "429k                     1\n",
       "200k                     1\n",
       "460k                     1\n",
       "619k                     1\n",
       "Name: count, Length: 461, dtype: int64"
      ]
     },
     "execution_count": 19,
     "metadata": {},
     "output_type": "execute_result"
    }
   ],
   "source": [
    "df_clean[\"Size\"].value_counts()"
   ]
  },
  {
   "cell_type": "code",
   "execution_count": 20,
   "id": "05829e97",
   "metadata": {
    "execution": {
     "iopub.execute_input": "2025-10-01T23:24:23.185311Z",
     "iopub.status.busy": "2025-10-01T23:24:23.184525Z",
     "iopub.status.idle": "2025-10-01T23:24:23.191693Z",
     "shell.execute_reply": "2025-10-01T23:24:23.190878Z"
    },
    "papermill": {
     "duration": 0.022819,
     "end_time": "2025-10-01T23:24:23.193224",
     "exception": false,
     "start_time": "2025-10-01T23:24:23.170405",
     "status": "completed"
    },
    "tags": []
   },
   "outputs": [
    {
     "data": {
      "text/plain": [
       "array(['19M', '14M', '8.7M', '25M', '2.8M', '5.6M', '29M', '33M', '3.1M',\n",
       "       '28M', '12M', '20M', '21M', '37M', '2.7M', '5.5M', '17M', '39M',\n",
       "       '31M', '4.2M', '7.0M', '23M', '6.0M', '6.1M', '4.6M', '9.2M',\n",
       "       '5.2M', '11M', '24M', 'Varies with device', '9.4M', '15M', '10M',\n",
       "       '1.2M', '26M', '8.0M', '7.9M', '56M', '57M', '35M', '54M', '201k',\n",
       "       '3.6M', '5.7M', '8.6M', '2.4M', '27M', '2.5M', '16M', '3.4M',\n",
       "       '8.9M', '3.9M', '2.9M', '38M', '32M', '5.4M', '18M', '1.1M',\n",
       "       '2.2M', '4.5M', '9.8M', '52M', '9.0M', '6.7M', '30M', '2.6M',\n",
       "       '7.1M', '3.7M', '22M', '7.4M', '6.4M', '3.2M', '8.2M', '9.9M',\n",
       "       '4.9M', '9.5M', '5.0M', '5.9M', '13M', '73M', '6.8M', '3.5M',\n",
       "       '4.0M', '2.3M', '7.2M', '2.1M', '42M', '7.3M', '9.1M', '55M',\n",
       "       '23k', '6.5M', '1.5M', '7.5M', '51M', '41M', '48M', '8.5M', '46M',\n",
       "       '8.3M', '4.3M', '4.7M', '3.3M', '40M', '7.8M', '8.8M', '6.6M',\n",
       "       '5.1M', '61M', '66M', '79k', '8.4M', '118k', '44M', '695k', '1.6M',\n",
       "       '6.2M', '18k', '53M', '1.4M', '3.0M', '5.8M', '3.8M', '9.6M',\n",
       "       '45M', '63M', '49M', '77M', '4.4M', '4.8M', '70M', '6.9M', '9.3M',\n",
       "       '10.0M', '8.1M', '36M', '84M', '97M', '2.0M', '1.9M', '1.8M',\n",
       "       '5.3M', '47M', '556k', '526k', '76M', '7.6M', '59M', '9.7M', '78M',\n",
       "       '72M', '43M', '7.7M', '6.3M', '334k', '34M', '93M', '65M', '79M',\n",
       "       '100M', '58M', '50M', '68M', '64M', '67M', '60M', '94M', '232k',\n",
       "       '99M', '624k', '95M', '8.5k', '41k', '292k', '11k', '80M', '1.7M',\n",
       "       '74M', '62M', '69M', '75M', '98M', '85M', '82M', '96M', '87M',\n",
       "       '71M', '86M', '91M', '81M', '92M', '83M', '88M', '704k', '862k',\n",
       "       '899k', '378k', '266k', '375k', '1.3M', '975k', '980k', '4.1M',\n",
       "       '89M', '696k', '544k', '525k', '920k', '779k', '853k', '720k',\n",
       "       '713k', '772k', '318k', '58k', '241k', '196k', '857k', '51k',\n",
       "       '953k', '865k', '251k', '930k', '540k', '313k', '746k', '203k',\n",
       "       '26k', '314k', '239k', '371k', '220k', '730k', '756k', '91k',\n",
       "       '293k', '17k', '74k', '14k', '317k', '78k', '924k', '902k', '818k',\n",
       "       '81k', '939k', '169k', '45k', '475k', '965k', '90M', '545k', '61k',\n",
       "       '283k', '655k', '714k', '93k', '872k', '121k', '322k', '1.0M',\n",
       "       '976k', '172k', '238k', '549k', '206k', '954k', '444k', '717k',\n",
       "       '210k', '609k', '308k', '705k', '306k', '904k', '473k', '175k',\n",
       "       '350k', '383k', '454k', '421k', '70k', '812k', '442k', '842k',\n",
       "       '417k', '412k', '459k', '478k', '335k', '782k', '721k', '430k',\n",
       "       '429k', '192k', '200k', '460k', '728k', '496k', '816k', '414k',\n",
       "       '506k', '887k', '613k', '243k', '569k', '778k', '683k', '592k',\n",
       "       '319k', '186k', '840k', '647k', '191k', '373k', '437k', '598k',\n",
       "       '716k', '585k', '982k', '222k', '219k', '55k', '948k', '323k',\n",
       "       '691k', '511k', '951k', '963k', '25k', '554k', '351k', '27k',\n",
       "       '82k', '208k', '913k', '514k', '551k', '29k', '103k', '898k',\n",
       "       '743k', '116k', '153k', '209k', '353k', '499k', '173k', '597k',\n",
       "       '809k', '122k', '411k', '400k', '801k', '787k', '237k', '50k',\n",
       "       '643k', '986k', '97k', '516k', '837k', '780k', '961k', '269k',\n",
       "       '20k', '498k', '600k', '749k', '642k', '881k', '72k', '656k',\n",
       "       '601k', '221k', '228k', '108k', '940k', '176k', '33k', '663k',\n",
       "       '34k', '942k', '259k', '164k', '458k', '245k', '629k', '28k',\n",
       "       '288k', '775k', '785k', '636k', '916k', '994k', '309k', '485k',\n",
       "       '914k', '903k', '608k', '500k', '54k', '562k', '847k', '957k',\n",
       "       '688k', '811k', '270k', '48k', '329k', '523k', '921k', '874k',\n",
       "       '981k', '784k', '280k', '24k', '518k', '754k', '892k', '154k',\n",
       "       '860k', '364k', '387k', '626k', '161k', '879k', '39k', '970k',\n",
       "       '170k', '141k', '160k', '144k', '143k', '190k', '376k', '193k',\n",
       "       '246k', '73k', '658k', '992k', '253k', '420k', '404k', '470k',\n",
       "       '226k', '240k', '89k', '234k', '257k', '861k', '467k', '157k',\n",
       "       '44k', '676k', '67k', '552k', '885k', '1020k', '582k', '619k'],\n",
       "      dtype=object)"
      ]
     },
     "execution_count": 20,
     "metadata": {},
     "output_type": "execute_result"
    }
   ],
   "source": [
    "df_clean[\"Size\"].unique()"
   ]
  },
  {
   "cell_type": "code",
   "execution_count": 21,
   "id": "2a75a6f9",
   "metadata": {
    "execution": {
     "iopub.execute_input": "2025-10-01T23:24:23.220746Z",
     "iopub.status.busy": "2025-10-01T23:24:23.220440Z",
     "iopub.status.idle": "2025-10-01T23:24:23.224563Z",
     "shell.execute_reply": "2025-10-01T23:24:23.223559Z"
    },
    "papermill": {
     "duration": 0.019643,
     "end_time": "2025-10-01T23:24:23.226094",
     "exception": false,
     "start_time": "2025-10-01T23:24:23.206451",
     "status": "completed"
    },
    "tags": []
   },
   "outputs": [],
   "source": [
    "#different variables with the numeric values(\"M\",l). Lets convert \"M\" with '000' and \"k\" with ''."
   ]
  },
  {
   "cell_type": "code",
   "execution_count": 22,
   "id": "068fb2f9",
   "metadata": {
    "execution": {
     "iopub.execute_input": "2025-10-01T23:24:23.253663Z",
     "iopub.status.busy": "2025-10-01T23:24:23.253369Z",
     "iopub.status.idle": "2025-10-01T23:24:23.266181Z",
     "shell.execute_reply": "2025-10-01T23:24:23.265141Z"
    },
    "papermill": {
     "duration": 0.028304,
     "end_time": "2025-10-01T23:24:23.267863",
     "exception": false,
     "start_time": "2025-10-01T23:24:23.239559",
     "status": "completed"
    },
    "tags": []
   },
   "outputs": [],
   "source": [
    "df_clean[\"Size\"] = df_clean[\"Size\"].str.replace(\"M\",\"000\")\n",
    "df_clean[\"Size\"] = df_clean[\"Size\"].str.replace(\"k\",\"\")"
   ]
  },
  {
   "cell_type": "code",
   "execution_count": 23,
   "id": "f6c46d93",
   "metadata": {
    "execution": {
     "iopub.execute_input": "2025-10-01T23:24:23.294942Z",
     "iopub.status.busy": "2025-10-01T23:24:23.294613Z",
     "iopub.status.idle": "2025-10-01T23:24:23.302482Z",
     "shell.execute_reply": "2025-10-01T23:24:23.301561Z"
    },
    "papermill": {
     "duration": 0.022966,
     "end_time": "2025-10-01T23:24:23.304085",
     "exception": false,
     "start_time": "2025-10-01T23:24:23.281119",
     "status": "completed"
    },
    "tags": []
   },
   "outputs": [
    {
     "data": {
      "text/plain": [
       "0                     19000\n",
       "1                     14000\n",
       "2                    8.7000\n",
       "3                     25000\n",
       "4                    2.8000\n",
       "                ...        \n",
       "10836                 53000\n",
       "10837                3.6000\n",
       "10838                9.5000\n",
       "10839    Varies with device\n",
       "10840                 19000\n",
       "Name: Size, Length: 10840, dtype: object"
      ]
     },
     "execution_count": 23,
     "metadata": {},
     "output_type": "execute_result"
    }
   ],
   "source": [
    "df_clean[\"Size\"]"
   ]
  },
  {
   "cell_type": "code",
   "execution_count": 24,
   "id": "7c8774f7",
   "metadata": {
    "execution": {
     "iopub.execute_input": "2025-10-01T23:24:23.333458Z",
     "iopub.status.busy": "2025-10-01T23:24:23.333147Z",
     "iopub.status.idle": "2025-10-01T23:24:23.339535Z",
     "shell.execute_reply": "2025-10-01T23:24:23.338668Z"
    },
    "papermill": {
     "duration": 0.023313,
     "end_time": "2025-10-01T23:24:23.340926",
     "exception": false,
     "start_time": "2025-10-01T23:24:23.317613",
     "status": "completed"
    },
    "tags": []
   },
   "outputs": [],
   "source": [
    "df_clean[\"Size\"] = df_clean[\"Size\"].replace('Varies with device',np.nan)"
   ]
  },
  {
   "cell_type": "code",
   "execution_count": 25,
   "id": "456ffa01",
   "metadata": {
    "execution": {
     "iopub.execute_input": "2025-10-01T23:24:23.368302Z",
     "iopub.status.busy": "2025-10-01T23:24:23.367900Z",
     "iopub.status.idle": "2025-10-01T23:24:23.374586Z",
     "shell.execute_reply": "2025-10-01T23:24:23.373599Z"
    },
    "papermill": {
     "duration": 0.021895,
     "end_time": "2025-10-01T23:24:23.376094",
     "exception": false,
     "start_time": "2025-10-01T23:24:23.354199",
     "status": "completed"
    },
    "tags": []
   },
   "outputs": [],
   "source": [
    "df_clean[\"Size\"] = df_clean[\"Size\"].astype(float)"
   ]
  },
  {
   "cell_type": "code",
   "execution_count": 26,
   "id": "00d233de",
   "metadata": {
    "execution": {
     "iopub.execute_input": "2025-10-01T23:24:23.403757Z",
     "iopub.status.busy": "2025-10-01T23:24:23.403454Z",
     "iopub.status.idle": "2025-10-01T23:24:23.412506Z",
     "shell.execute_reply": "2025-10-01T23:24:23.411376Z"
    },
    "papermill": {
     "duration": 0.024304,
     "end_time": "2025-10-01T23:24:23.413996",
     "exception": false,
     "start_time": "2025-10-01T23:24:23.389692",
     "status": "completed"
    },
    "tags": []
   },
   "outputs": [
    {
     "name": "stderr",
     "output_type": "stream",
     "text": [
      "/usr/local/lib/python3.11/dist-packages/pandas/io/formats/format.py:1458: RuntimeWarning: invalid value encountered in greater\n",
      "  has_large_values = (abs_vals > 1e6).any()\n",
      "/usr/local/lib/python3.11/dist-packages/pandas/io/formats/format.py:1459: RuntimeWarning: invalid value encountered in less\n",
      "  has_small_values = ((abs_vals < 10 ** (-self.digits)) & (abs_vals > 0)).any()\n",
      "/usr/local/lib/python3.11/dist-packages/pandas/io/formats/format.py:1459: RuntimeWarning: invalid value encountered in greater\n",
      "  has_small_values = ((abs_vals < 10 ** (-self.digits)) & (abs_vals > 0)).any()\n"
     ]
    },
    {
     "data": {
      "text/plain": [
       "0        19000.0\n",
       "1        14000.0\n",
       "2            8.7\n",
       "3        25000.0\n",
       "4            2.8\n",
       "          ...   \n",
       "10836    53000.0\n",
       "10837        3.6\n",
       "10838        9.5\n",
       "10839        NaN\n",
       "10840    19000.0\n",
       "Name: Size, Length: 10840, dtype: float64"
      ]
     },
     "execution_count": 26,
     "metadata": {},
     "output_type": "execute_result"
    }
   ],
   "source": [
    "df_clean[\"Size\"]"
   ]
  },
  {
   "cell_type": "code",
   "execution_count": 27,
   "id": "54484750",
   "metadata": {
    "execution": {
     "iopub.execute_input": "2025-10-01T23:24:23.441347Z",
     "iopub.status.busy": "2025-10-01T23:24:23.441034Z",
     "iopub.status.idle": "2025-10-01T23:24:23.454292Z",
     "shell.execute_reply": "2025-10-01T23:24:23.453489Z"
    },
    "papermill": {
     "duration": 0.028333,
     "end_time": "2025-10-01T23:24:23.455608",
     "exception": false,
     "start_time": "2025-10-01T23:24:23.427275",
     "status": "completed"
    },
    "tags": []
   },
   "outputs": [
    {
     "data": {
      "text/plain": [
       "App                  0\n",
       "Category             0\n",
       "Rating            1474\n",
       "Reviews              0\n",
       "Size              1695\n",
       "Installs             0\n",
       "Type                 1\n",
       "Price                0\n",
       "Content Rating       0\n",
       "Genres               0\n",
       "Last Updated         0\n",
       "Current Ver          8\n",
       "Android Ver          2\n",
       "dtype: int64"
      ]
     },
     "execution_count": 27,
     "metadata": {},
     "output_type": "execute_result"
    }
   ],
   "source": [
    "df_clean.isnull().sum()"
   ]
  },
  {
   "cell_type": "code",
   "execution_count": 28,
   "id": "f2738278",
   "metadata": {
    "execution": {
     "iopub.execute_input": "2025-10-01T23:24:23.483181Z",
     "iopub.status.busy": "2025-10-01T23:24:23.482871Z",
     "iopub.status.idle": "2025-10-01T23:24:23.498567Z",
     "shell.execute_reply": "2025-10-01T23:24:23.497584Z"
    },
    "papermill": {
     "duration": 0.031258,
     "end_time": "2025-10-01T23:24:23.500350",
     "exception": false,
     "start_time": "2025-10-01T23:24:23.469092",
     "status": "completed"
    },
    "tags": []
   },
   "outputs": [
    {
     "name": "stdout",
     "output_type": "stream",
     "text": [
      "<class 'pandas.core.frame.DataFrame'>\n",
      "Index: 10840 entries, 0 to 10840\n",
      "Data columns (total 13 columns):\n",
      " #   Column          Non-Null Count  Dtype  \n",
      "---  ------          --------------  -----  \n",
      " 0   App             10840 non-null  object \n",
      " 1   Category        10840 non-null  object \n",
      " 2   Rating          9366 non-null   float64\n",
      " 3   Reviews         10840 non-null  int64  \n",
      " 4   Size            9145 non-null   float64\n",
      " 5   Installs        10840 non-null  object \n",
      " 6   Type            10839 non-null  object \n",
      " 7   Price           10840 non-null  object \n",
      " 8   Content Rating  10840 non-null  object \n",
      " 9   Genres          10840 non-null  object \n",
      " 10  Last Updated    10840 non-null  object \n",
      " 11  Current Ver     10832 non-null  object \n",
      " 12  Android Ver     10838 non-null  object \n",
      "dtypes: float64(2), int64(1), object(10)\n",
      "memory usage: 1.2+ MB\n"
     ]
    }
   ],
   "source": [
    "df_clean.info()"
   ]
  },
  {
   "cell_type": "code",
   "execution_count": 29,
   "id": "cfe857e7",
   "metadata": {
    "execution": {
     "iopub.execute_input": "2025-10-01T23:24:23.528816Z",
     "iopub.status.busy": "2025-10-01T23:24:23.528487Z",
     "iopub.status.idle": "2025-10-01T23:24:23.536351Z",
     "shell.execute_reply": "2025-10-01T23:24:23.535425Z"
    },
    "papermill": {
     "duration": 0.023617,
     "end_time": "2025-10-01T23:24:23.537739",
     "exception": false,
     "start_time": "2025-10-01T23:24:23.514122",
     "status": "completed"
    },
    "tags": []
   },
   "outputs": [
    {
     "data": {
      "text/plain": [
       "Installs\n",
       "1,000,000+        1579\n",
       "10,000,000+       1252\n",
       "100,000+          1169\n",
       "10,000+           1054\n",
       "1,000+             907\n",
       "5,000,000+         752\n",
       "100+               719\n",
       "500,000+           539\n",
       "50,000+            479\n",
       "5,000+             477\n",
       "100,000,000+       409\n",
       "10+                386\n",
       "500+               330\n",
       "50,000,000+        289\n",
       "50+                205\n",
       "5+                  82\n",
       "500,000,000+        72\n",
       "1+                  67\n",
       "1,000,000,000+      58\n",
       "0+                  14\n",
       "0                    1\n",
       "Name: count, dtype: int64"
      ]
     },
     "execution_count": 29,
     "metadata": {},
     "output_type": "execute_result"
    }
   ],
   "source": [
    "df_clean[\"Installs\"].value_counts()"
   ]
  },
  {
   "cell_type": "code",
   "execution_count": 30,
   "id": "d3cd7454",
   "metadata": {
    "execution": {
     "iopub.execute_input": "2025-10-01T23:24:23.565410Z",
     "iopub.status.busy": "2025-10-01T23:24:23.565084Z",
     "iopub.status.idle": "2025-10-01T23:24:23.571811Z",
     "shell.execute_reply": "2025-10-01T23:24:23.570867Z"
    },
    "papermill": {
     "duration": 0.022307,
     "end_time": "2025-10-01T23:24:23.573383",
     "exception": false,
     "start_time": "2025-10-01T23:24:23.551076",
     "status": "completed"
    },
    "tags": []
   },
   "outputs": [
    {
     "data": {
      "text/plain": [
       "array(['10,000+', '500,000+', '5,000,000+', '50,000,000+', '100,000+',\n",
       "       '50,000+', '1,000,000+', '10,000,000+', '5,000+', '100,000,000+',\n",
       "       '1,000,000,000+', '1,000+', '500,000,000+', '50+', '100+', '500+',\n",
       "       '10+', '1+', '5+', '0+', '0'], dtype=object)"
      ]
     },
     "execution_count": 30,
     "metadata": {},
     "output_type": "execute_result"
    }
   ],
   "source": [
    "df_clean[\"Installs\"].unique()"
   ]
  },
  {
   "cell_type": "code",
   "execution_count": 31,
   "id": "58726a6b",
   "metadata": {
    "execution": {
     "iopub.execute_input": "2025-10-01T23:24:23.602082Z",
     "iopub.status.busy": "2025-10-01T23:24:23.601812Z",
     "iopub.status.idle": "2025-10-01T23:24:23.609550Z",
     "shell.execute_reply": "2025-10-01T23:24:23.608873Z"
    },
    "papermill": {
     "duration": 0.02386,
     "end_time": "2025-10-01T23:24:23.611102",
     "exception": false,
     "start_time": "2025-10-01T23:24:23.587242",
     "status": "completed"
    },
    "tags": []
   },
   "outputs": [
    {
     "data": {
      "text/plain": [
       "Price\n",
       "0         10040\n",
       "$0.99       148\n",
       "$2.99       129\n",
       "$1.99        73\n",
       "$4.99        72\n",
       "          ...  \n",
       "$19.90        1\n",
       "$1.75         1\n",
       "$14.00        1\n",
       "$4.85         1\n",
       "$1.04         1\n",
       "Name: count, Length: 92, dtype: int64"
      ]
     },
     "execution_count": 31,
     "metadata": {},
     "output_type": "execute_result"
    }
   ],
   "source": [
    "df_clean[\"Price\"].value_counts()"
   ]
  },
  {
   "cell_type": "code",
   "execution_count": 32,
   "id": "e3bb3d10",
   "metadata": {
    "execution": {
     "iopub.execute_input": "2025-10-01T23:24:23.639408Z",
     "iopub.status.busy": "2025-10-01T23:24:23.639137Z",
     "iopub.status.idle": "2025-10-01T23:24:23.645637Z",
     "shell.execute_reply": "2025-10-01T23:24:23.644809Z"
    },
    "papermill": {
     "duration": 0.022164,
     "end_time": "2025-10-01T23:24:23.646940",
     "exception": false,
     "start_time": "2025-10-01T23:24:23.624776",
     "status": "completed"
    },
    "tags": []
   },
   "outputs": [
    {
     "data": {
      "text/plain": [
       "array(['0', '$4.99', '$3.99', '$6.99', '$1.49', '$2.99', '$7.99', '$5.99',\n",
       "       '$3.49', '$1.99', '$9.99', '$7.49', '$0.99', '$9.00', '$5.49',\n",
       "       '$10.00', '$24.99', '$11.99', '$79.99', '$16.99', '$14.99',\n",
       "       '$1.00', '$29.99', '$12.99', '$2.49', '$10.99', '$1.50', '$19.99',\n",
       "       '$15.99', '$33.99', '$74.99', '$39.99', '$3.95', '$4.49', '$1.70',\n",
       "       '$8.99', '$2.00', '$3.88', '$25.99', '$399.99', '$17.99',\n",
       "       '$400.00', '$3.02', '$1.76', '$4.84', '$4.77', '$1.61', '$2.50',\n",
       "       '$1.59', '$6.49', '$1.29', '$5.00', '$13.99', '$299.99', '$379.99',\n",
       "       '$37.99', '$18.99', '$389.99', '$19.90', '$8.49', '$1.75',\n",
       "       '$14.00', '$4.85', '$46.99', '$109.99', '$154.99', '$3.08',\n",
       "       '$2.59', '$4.80', '$1.96', '$19.40', '$3.90', '$4.59', '$15.46',\n",
       "       '$3.04', '$4.29', '$2.60', '$3.28', '$4.60', '$28.99', '$2.95',\n",
       "       '$2.90', '$1.97', '$200.00', '$89.99', '$2.56', '$30.99', '$3.61',\n",
       "       '$394.99', '$1.26', '$1.20', '$1.04'], dtype=object)"
      ]
     },
     "execution_count": 32,
     "metadata": {},
     "output_type": "execute_result"
    }
   ],
   "source": [
    "df_clean[\"Price\"].unique()"
   ]
  },
  {
   "cell_type": "code",
   "execution_count": 33,
   "id": "7aa6cbae",
   "metadata": {
    "execution": {
     "iopub.execute_input": "2025-10-01T23:24:23.674815Z",
     "iopub.status.busy": "2025-10-01T23:24:23.674518Z",
     "iopub.status.idle": "2025-10-01T23:24:23.678139Z",
     "shell.execute_reply": "2025-10-01T23:24:23.677394Z"
    },
    "papermill": {
     "duration": 0.018944,
     "end_time": "2025-10-01T23:24:23.679449",
     "exception": false,
     "start_time": "2025-10-01T23:24:23.660505",
     "status": "completed"
    },
    "tags": []
   },
   "outputs": [],
   "source": [
    "#\"Price\" and \"Installs\" columns -> we have to remove \"+\", \"$\" and \",\""
   ]
  },
  {
   "cell_type": "code",
   "execution_count": 34,
   "id": "f708e710",
   "metadata": {
    "execution": {
     "iopub.execute_input": "2025-10-01T23:24:23.707856Z",
     "iopub.status.busy": "2025-10-01T23:24:23.707161Z",
     "iopub.status.idle": "2025-10-01T23:24:23.730551Z",
     "shell.execute_reply": "2025-10-01T23:24:23.729768Z"
    },
    "papermill": {
     "duration": 0.03918,
     "end_time": "2025-10-01T23:24:23.732033",
     "exception": false,
     "start_time": "2025-10-01T23:24:23.692853",
     "status": "completed"
    },
    "tags": []
   },
   "outputs": [],
   "source": [
    "chars_to_remove =[\"+\",\",\",\"$\"]\n",
    "cols_to_clean = [\"Installs\",\"Price\"]\n",
    "for item in chars_to_remove:\n",
    "    for cols in cols_to_clean:\n",
    "        df_clean[cols] = df_clean[cols].str.replace(item,\"\")"
   ]
  },
  {
   "cell_type": "code",
   "execution_count": 35,
   "id": "33e4eba3",
   "metadata": {
    "execution": {
     "iopub.execute_input": "2025-10-01T23:24:23.763509Z",
     "iopub.status.busy": "2025-10-01T23:24:23.763213Z",
     "iopub.status.idle": "2025-10-01T23:24:23.769709Z",
     "shell.execute_reply": "2025-10-01T23:24:23.769046Z"
    },
    "papermill": {
     "duration": 0.025237,
     "end_time": "2025-10-01T23:24:23.771089",
     "exception": false,
     "start_time": "2025-10-01T23:24:23.745852",
     "status": "completed"
    },
    "tags": []
   },
   "outputs": [
    {
     "data": {
      "text/plain": [
       "array(['0', '4.99', '3.99', '6.99', '1.49', '2.99', '7.99', '5.99',\n",
       "       '3.49', '1.99', '9.99', '7.49', '0.99', '9.00', '5.49', '10.00',\n",
       "       '24.99', '11.99', '79.99', '16.99', '14.99', '1.00', '29.99',\n",
       "       '12.99', '2.49', '10.99', '1.50', '19.99', '15.99', '33.99',\n",
       "       '74.99', '39.99', '3.95', '4.49', '1.70', '8.99', '2.00', '3.88',\n",
       "       '25.99', '399.99', '17.99', '400.00', '3.02', '1.76', '4.84',\n",
       "       '4.77', '1.61', '2.50', '1.59', '6.49', '1.29', '5.00', '13.99',\n",
       "       '299.99', '379.99', '37.99', '18.99', '389.99', '19.90', '8.49',\n",
       "       '1.75', '14.00', '4.85', '46.99', '109.99', '154.99', '3.08',\n",
       "       '2.59', '4.80', '1.96', '19.40', '3.90', '4.59', '15.46', '3.04',\n",
       "       '4.29', '2.60', '3.28', '4.60', '28.99', '2.95', '2.90', '1.97',\n",
       "       '200.00', '89.99', '2.56', '30.99', '3.61', '394.99', '1.26',\n",
       "       '1.20', '1.04'], dtype=object)"
      ]
     },
     "execution_count": 35,
     "metadata": {},
     "output_type": "execute_result"
    }
   ],
   "source": [
    "df_clean[\"Price\"].unique()"
   ]
  },
  {
   "cell_type": "code",
   "execution_count": 36,
   "id": "9e6bc5df",
   "metadata": {
    "execution": {
     "iopub.execute_input": "2025-10-01T23:24:23.798587Z",
     "iopub.status.busy": "2025-10-01T23:24:23.798298Z",
     "iopub.status.idle": "2025-10-01T23:24:23.804519Z",
     "shell.execute_reply": "2025-10-01T23:24:23.803654Z"
    },
    "papermill": {
     "duration": 0.021311,
     "end_time": "2025-10-01T23:24:23.805692",
     "exception": false,
     "start_time": "2025-10-01T23:24:23.784381",
     "status": "completed"
    },
    "tags": []
   },
   "outputs": [
    {
     "data": {
      "text/plain": [
       "array(['10000', '500000', '5000000', '50000000', '100000', '50000',\n",
       "       '1000000', '10000000', '5000', '100000000', '1000000000', '1000',\n",
       "       '500000000', '50', '100', '500', '10', '1', '5', '0'], dtype=object)"
      ]
     },
     "execution_count": 36,
     "metadata": {},
     "output_type": "execute_result"
    }
   ],
   "source": [
    "df_clean[\"Installs\"].unique()"
   ]
  },
  {
   "cell_type": "code",
   "execution_count": 37,
   "id": "431e553f",
   "metadata": {
    "execution": {
     "iopub.execute_input": "2025-10-01T23:24:23.834254Z",
     "iopub.status.busy": "2025-10-01T23:24:23.833987Z",
     "iopub.status.idle": "2025-10-01T23:24:23.840348Z",
     "shell.execute_reply": "2025-10-01T23:24:23.839341Z"
    },
    "papermill": {
     "duration": 0.02249,
     "end_time": "2025-10-01T23:24:23.841967",
     "exception": false,
     "start_time": "2025-10-01T23:24:23.819477",
     "status": "completed"
    },
    "tags": []
   },
   "outputs": [],
   "source": [
    "df_clean[\"Price\"] = df_clean[\"Price\"].astype(float)"
   ]
  },
  {
   "cell_type": "code",
   "execution_count": 38,
   "id": "a38446b4",
   "metadata": {
    "execution": {
     "iopub.execute_input": "2025-10-01T23:24:23.871601Z",
     "iopub.status.busy": "2025-10-01T23:24:23.870777Z",
     "iopub.status.idle": "2025-10-01T23:24:23.877042Z",
     "shell.execute_reply": "2025-10-01T23:24:23.876147Z"
    },
    "papermill": {
     "duration": 0.022411,
     "end_time": "2025-10-01T23:24:23.878538",
     "exception": false,
     "start_time": "2025-10-01T23:24:23.856127",
     "status": "completed"
    },
    "tags": []
   },
   "outputs": [],
   "source": [
    "df_clean[\"Installs\"] = df_clean[\"Installs\"].astype(int)"
   ]
  },
  {
   "cell_type": "code",
   "execution_count": 39,
   "id": "28b62426",
   "metadata": {
    "execution": {
     "iopub.execute_input": "2025-10-01T23:24:23.907163Z",
     "iopub.status.busy": "2025-10-01T23:24:23.906829Z",
     "iopub.status.idle": "2025-10-01T23:24:23.922265Z",
     "shell.execute_reply": "2025-10-01T23:24:23.921220Z"
    },
    "papermill": {
     "duration": 0.031245,
     "end_time": "2025-10-01T23:24:23.923686",
     "exception": false,
     "start_time": "2025-10-01T23:24:23.892441",
     "status": "completed"
    },
    "tags": []
   },
   "outputs": [
    {
     "name": "stdout",
     "output_type": "stream",
     "text": [
      "<class 'pandas.core.frame.DataFrame'>\n",
      "Index: 10840 entries, 0 to 10840\n",
      "Data columns (total 13 columns):\n",
      " #   Column          Non-Null Count  Dtype  \n",
      "---  ------          --------------  -----  \n",
      " 0   App             10840 non-null  object \n",
      " 1   Category        10840 non-null  object \n",
      " 2   Rating          9366 non-null   float64\n",
      " 3   Reviews         10840 non-null  int64  \n",
      " 4   Size            9145 non-null   float64\n",
      " 5   Installs        10840 non-null  int64  \n",
      " 6   Type            10839 non-null  object \n",
      " 7   Price           10840 non-null  float64\n",
      " 8   Content Rating  10840 non-null  object \n",
      " 9   Genres          10840 non-null  object \n",
      " 10  Last Updated    10840 non-null  object \n",
      " 11  Current Ver     10832 non-null  object \n",
      " 12  Android Ver     10838 non-null  object \n",
      "dtypes: float64(3), int64(2), object(8)\n",
      "memory usage: 1.2+ MB\n"
     ]
    }
   ],
   "source": [
    "df_clean.info()"
   ]
  },
  {
   "cell_type": "code",
   "execution_count": 40,
   "id": "267cafb1",
   "metadata": {
    "execution": {
     "iopub.execute_input": "2025-10-01T23:24:23.952716Z",
     "iopub.status.busy": "2025-10-01T23:24:23.952412Z",
     "iopub.status.idle": "2025-10-01T23:24:23.959280Z",
     "shell.execute_reply": "2025-10-01T23:24:23.958472Z"
    },
    "papermill": {
     "duration": 0.022881,
     "end_time": "2025-10-01T23:24:23.960764",
     "exception": false,
     "start_time": "2025-10-01T23:24:23.937883",
     "status": "completed"
    },
    "tags": []
   },
   "outputs": [
    {
     "data": {
      "text/plain": [
       "0         January 7, 2018\n",
       "1        January 15, 2018\n",
       "2          August 1, 2018\n",
       "3            June 8, 2018\n",
       "4           June 20, 2018\n",
       "               ...       \n",
       "10836       July 25, 2017\n",
       "10837        July 6, 2018\n",
       "10838    January 20, 2017\n",
       "10839    January 19, 2015\n",
       "10840       July 25, 2018\n",
       "Name: Last Updated, Length: 10840, dtype: object"
      ]
     },
     "execution_count": 40,
     "metadata": {},
     "output_type": "execute_result"
    }
   ],
   "source": [
    "df_clean[\"Last Updated\"]"
   ]
  },
  {
   "cell_type": "code",
   "execution_count": 41,
   "id": "a7991ae9",
   "metadata": {
    "execution": {
     "iopub.execute_input": "2025-10-01T23:24:23.989396Z",
     "iopub.status.busy": "2025-10-01T23:24:23.989088Z",
     "iopub.status.idle": "2025-10-01T23:24:24.008452Z",
     "shell.execute_reply": "2025-10-01T23:24:24.007712Z"
    },
    "papermill": {
     "duration": 0.03532,
     "end_time": "2025-10-01T23:24:24.009855",
     "exception": false,
     "start_time": "2025-10-01T23:24:23.974535",
     "status": "completed"
    },
    "tags": []
   },
   "outputs": [],
   "source": [
    "df_clean[\"Last Updated\"] = pd.to_datetime(df_clean[\"Last Updated\"])\n",
    "df_clean[\"Day\"] = df_clean[\"Last Updated\"].dt.day\n",
    "df_clean[\"Month\"] = df_clean[\"Last Updated\"].dt.month\n",
    "df_clean[\"Year\"]=df_clean[\"Last Updated\"].dt.year"
   ]
  },
  {
   "cell_type": "code",
   "execution_count": 42,
   "id": "de00db1a",
   "metadata": {
    "execution": {
     "iopub.execute_input": "2025-10-01T23:24:24.039327Z",
     "iopub.status.busy": "2025-10-01T23:24:24.038999Z",
     "iopub.status.idle": "2025-10-01T23:24:24.054535Z",
     "shell.execute_reply": "2025-10-01T23:24:24.053688Z"
    },
    "papermill": {
     "duration": 0.031749,
     "end_time": "2025-10-01T23:24:24.055848",
     "exception": false,
     "start_time": "2025-10-01T23:24:24.024099",
     "status": "completed"
    },
    "tags": []
   },
   "outputs": [
    {
     "name": "stderr",
     "output_type": "stream",
     "text": [
      "/usr/local/lib/python3.11/dist-packages/pandas/io/formats/format.py:1458: RuntimeWarning: invalid value encountered in greater\n",
      "  has_large_values = (abs_vals > 1e6).any()\n",
      "/usr/local/lib/python3.11/dist-packages/pandas/io/formats/format.py:1459: RuntimeWarning: invalid value encountered in less\n",
      "  has_small_values = ((abs_vals < 10 ** (-self.digits)) & (abs_vals > 0)).any()\n",
      "/usr/local/lib/python3.11/dist-packages/pandas/io/formats/format.py:1459: RuntimeWarning: invalid value encountered in greater\n",
      "  has_small_values = ((abs_vals < 10 ** (-self.digits)) & (abs_vals > 0)).any()\n"
     ]
    },
    {
     "data": {
      "text/html": [
       "<div>\n",
       "<style scoped>\n",
       "    .dataframe tbody tr th:only-of-type {\n",
       "        vertical-align: middle;\n",
       "    }\n",
       "\n",
       "    .dataframe tbody tr th {\n",
       "        vertical-align: top;\n",
       "    }\n",
       "\n",
       "    .dataframe thead th {\n",
       "        text-align: right;\n",
       "    }\n",
       "</style>\n",
       "<table border=\"1\" class=\"dataframe\">\n",
       "  <thead>\n",
       "    <tr style=\"text-align: right;\">\n",
       "      <th></th>\n",
       "      <th>App</th>\n",
       "      <th>Category</th>\n",
       "      <th>Rating</th>\n",
       "      <th>Reviews</th>\n",
       "      <th>Size</th>\n",
       "      <th>Installs</th>\n",
       "      <th>Type</th>\n",
       "      <th>Price</th>\n",
       "      <th>Content Rating</th>\n",
       "      <th>Genres</th>\n",
       "      <th>Last Updated</th>\n",
       "      <th>Current Ver</th>\n",
       "      <th>Android Ver</th>\n",
       "      <th>Day</th>\n",
       "      <th>Month</th>\n",
       "      <th>Year</th>\n",
       "    </tr>\n",
       "  </thead>\n",
       "  <tbody>\n",
       "    <tr>\n",
       "      <th>10836</th>\n",
       "      <td>Sya9a Maroc - FR</td>\n",
       "      <td>FAMILY</td>\n",
       "      <td>4.5</td>\n",
       "      <td>38</td>\n",
       "      <td>53000.0</td>\n",
       "      <td>5000</td>\n",
       "      <td>Free</td>\n",
       "      <td>0.0</td>\n",
       "      <td>Everyone</td>\n",
       "      <td>Education</td>\n",
       "      <td>2017-07-25</td>\n",
       "      <td>1.48</td>\n",
       "      <td>4.1 and up</td>\n",
       "      <td>25</td>\n",
       "      <td>7</td>\n",
       "      <td>2017</td>\n",
       "    </tr>\n",
       "    <tr>\n",
       "      <th>10837</th>\n",
       "      <td>Fr. Mike Schmitz Audio Teachings</td>\n",
       "      <td>FAMILY</td>\n",
       "      <td>5.0</td>\n",
       "      <td>4</td>\n",
       "      <td>3.6</td>\n",
       "      <td>100</td>\n",
       "      <td>Free</td>\n",
       "      <td>0.0</td>\n",
       "      <td>Everyone</td>\n",
       "      <td>Education</td>\n",
       "      <td>2018-07-06</td>\n",
       "      <td>1.0</td>\n",
       "      <td>4.1 and up</td>\n",
       "      <td>6</td>\n",
       "      <td>7</td>\n",
       "      <td>2018</td>\n",
       "    </tr>\n",
       "    <tr>\n",
       "      <th>10838</th>\n",
       "      <td>Parkinson Exercices FR</td>\n",
       "      <td>MEDICAL</td>\n",
       "      <td>NaN</td>\n",
       "      <td>3</td>\n",
       "      <td>9.5</td>\n",
       "      <td>1000</td>\n",
       "      <td>Free</td>\n",
       "      <td>0.0</td>\n",
       "      <td>Everyone</td>\n",
       "      <td>Medical</td>\n",
       "      <td>2017-01-20</td>\n",
       "      <td>1.0</td>\n",
       "      <td>2.2 and up</td>\n",
       "      <td>20</td>\n",
       "      <td>1</td>\n",
       "      <td>2017</td>\n",
       "    </tr>\n",
       "    <tr>\n",
       "      <th>10839</th>\n",
       "      <td>The SCP Foundation DB fr nn5n</td>\n",
       "      <td>BOOKS_AND_REFERENCE</td>\n",
       "      <td>4.5</td>\n",
       "      <td>114</td>\n",
       "      <td>NaN</td>\n",
       "      <td>1000</td>\n",
       "      <td>Free</td>\n",
       "      <td>0.0</td>\n",
       "      <td>Mature 17+</td>\n",
       "      <td>Books &amp; Reference</td>\n",
       "      <td>2015-01-19</td>\n",
       "      <td>Varies with device</td>\n",
       "      <td>Varies with device</td>\n",
       "      <td>19</td>\n",
       "      <td>1</td>\n",
       "      <td>2015</td>\n",
       "    </tr>\n",
       "    <tr>\n",
       "      <th>10840</th>\n",
       "      <td>iHoroscope - 2018 Daily Horoscope &amp; Astrology</td>\n",
       "      <td>LIFESTYLE</td>\n",
       "      <td>4.5</td>\n",
       "      <td>398307</td>\n",
       "      <td>19000.0</td>\n",
       "      <td>10000000</td>\n",
       "      <td>Free</td>\n",
       "      <td>0.0</td>\n",
       "      <td>Everyone</td>\n",
       "      <td>Lifestyle</td>\n",
       "      <td>2018-07-25</td>\n",
       "      <td>Varies with device</td>\n",
       "      <td>Varies with device</td>\n",
       "      <td>25</td>\n",
       "      <td>7</td>\n",
       "      <td>2018</td>\n",
       "    </tr>\n",
       "  </tbody>\n",
       "</table>\n",
       "</div>"
      ],
      "text/plain": [
       "                                                 App             Category  \\\n",
       "10836                               Sya9a Maroc - FR               FAMILY   \n",
       "10837               Fr. Mike Schmitz Audio Teachings               FAMILY   \n",
       "10838                         Parkinson Exercices FR              MEDICAL   \n",
       "10839                  The SCP Foundation DB fr nn5n  BOOKS_AND_REFERENCE   \n",
       "10840  iHoroscope - 2018 Daily Horoscope & Astrology            LIFESTYLE   \n",
       "\n",
       "       Rating  Reviews     Size  Installs  Type  Price Content Rating  \\\n",
       "10836     4.5       38  53000.0      5000  Free    0.0       Everyone   \n",
       "10837     5.0        4      3.6       100  Free    0.0       Everyone   \n",
       "10838     NaN        3      9.5      1000  Free    0.0       Everyone   \n",
       "10839     4.5      114      NaN      1000  Free    0.0     Mature 17+   \n",
       "10840     4.5   398307  19000.0  10000000  Free    0.0       Everyone   \n",
       "\n",
       "                  Genres Last Updated         Current Ver         Android Ver  \\\n",
       "10836          Education   2017-07-25                1.48          4.1 and up   \n",
       "10837          Education   2018-07-06                 1.0          4.1 and up   \n",
       "10838            Medical   2017-01-20                 1.0          2.2 and up   \n",
       "10839  Books & Reference   2015-01-19  Varies with device  Varies with device   \n",
       "10840          Lifestyle   2018-07-25  Varies with device  Varies with device   \n",
       "\n",
       "       Day  Month  Year  \n",
       "10836   25      7  2017  \n",
       "10837    6      7  2018  \n",
       "10838   20      1  2017  \n",
       "10839   19      1  2015  \n",
       "10840   25      7  2018  "
      ]
     },
     "execution_count": 42,
     "metadata": {},
     "output_type": "execute_result"
    }
   ],
   "source": [
    "df_clean.tail()"
   ]
  },
  {
   "cell_type": "code",
   "execution_count": 43,
   "id": "67b5abe0",
   "metadata": {
    "execution": {
     "iopub.execute_input": "2025-10-01T23:24:24.085574Z",
     "iopub.status.busy": "2025-10-01T23:24:24.085273Z",
     "iopub.status.idle": "2025-10-01T23:24:24.101968Z",
     "shell.execute_reply": "2025-10-01T23:24:24.100716Z"
    },
    "papermill": {
     "duration": 0.033421,
     "end_time": "2025-10-01T23:24:24.103558",
     "exception": false,
     "start_time": "2025-10-01T23:24:24.070137",
     "status": "completed"
    },
    "tags": []
   },
   "outputs": [
    {
     "name": "stdout",
     "output_type": "stream",
     "text": [
      "<class 'pandas.core.frame.DataFrame'>\n",
      "Index: 10840 entries, 0 to 10840\n",
      "Data columns (total 16 columns):\n",
      " #   Column          Non-Null Count  Dtype         \n",
      "---  ------          --------------  -----         \n",
      " 0   App             10840 non-null  object        \n",
      " 1   Category        10840 non-null  object        \n",
      " 2   Rating          9366 non-null   float64       \n",
      " 3   Reviews         10840 non-null  int64         \n",
      " 4   Size            9145 non-null   float64       \n",
      " 5   Installs        10840 non-null  int64         \n",
      " 6   Type            10839 non-null  object        \n",
      " 7   Price           10840 non-null  float64       \n",
      " 8   Content Rating  10840 non-null  object        \n",
      " 9   Genres          10840 non-null  object        \n",
      " 10  Last Updated    10840 non-null  datetime64[ns]\n",
      " 11  Current Ver     10832 non-null  object        \n",
      " 12  Android Ver     10838 non-null  object        \n",
      " 13  Day             10840 non-null  int32         \n",
      " 14  Month           10840 non-null  int32         \n",
      " 15  Year            10840 non-null  int32         \n",
      "dtypes: datetime64[ns](1), float64(3), int32(3), int64(2), object(7)\n",
      "memory usage: 1.3+ MB\n"
     ]
    }
   ],
   "source": [
    "df_clean.info()"
   ]
  },
  {
   "cell_type": "code",
   "execution_count": 44,
   "id": "9d15688f",
   "metadata": {
    "execution": {
     "iopub.execute_input": "2025-10-01T23:24:24.133566Z",
     "iopub.status.busy": "2025-10-01T23:24:24.133230Z",
     "iopub.status.idle": "2025-10-01T23:24:24.137193Z",
     "shell.execute_reply": "2025-10-01T23:24:24.136337Z"
    },
    "papermill": {
     "duration": 0.020302,
     "end_time": "2025-10-01T23:24:24.138552",
     "exception": false,
     "start_time": "2025-10-01T23:24:24.118250",
     "status": "completed"
    },
    "tags": []
   },
   "outputs": [],
   "source": [
    "# Time to EDA"
   ]
  },
  {
   "cell_type": "code",
   "execution_count": 45,
   "id": "ead368b5",
   "metadata": {
    "execution": {
     "iopub.execute_input": "2025-10-01T23:24:24.168254Z",
     "iopub.status.busy": "2025-10-01T23:24:24.167962Z",
     "iopub.status.idle": "2025-10-01T23:24:24.178198Z",
     "shell.execute_reply": "2025-10-01T23:24:24.177428Z"
    },
    "papermill": {
     "duration": 0.026636,
     "end_time": "2025-10-01T23:24:24.179673",
     "exception": false,
     "start_time": "2025-10-01T23:24:24.153037",
     "status": "completed"
    },
    "tags": []
   },
   "outputs": [
    {
     "data": {
      "text/plain": [
       "(1181, 16)"
      ]
     },
     "execution_count": 45,
     "metadata": {},
     "output_type": "execute_result"
    }
   ],
   "source": [
    "df_clean[df_clean.duplicated('App')].shape"
   ]
  },
  {
   "cell_type": "code",
   "execution_count": 46,
   "id": "5d86a547",
   "metadata": {
    "execution": {
     "iopub.execute_input": "2025-10-01T23:24:24.209777Z",
     "iopub.status.busy": "2025-10-01T23:24:24.209468Z",
     "iopub.status.idle": "2025-10-01T23:24:24.217574Z",
     "shell.execute_reply": "2025-10-01T23:24:24.216749Z"
    },
    "papermill": {
     "duration": 0.024839,
     "end_time": "2025-10-01T23:24:24.218953",
     "exception": false,
     "start_time": "2025-10-01T23:24:24.194114",
     "status": "completed"
    },
    "tags": []
   },
   "outputs": [],
   "source": [
    "df_clean = df_clean.drop_duplicates(subset=['App'],keep='first') # we are dropping duplicated rows and we are keeping first entry."
   ]
  },
  {
   "cell_type": "code",
   "execution_count": 47,
   "id": "f1bb7f95",
   "metadata": {
    "execution": {
     "iopub.execute_input": "2025-10-01T23:24:24.248724Z",
     "iopub.status.busy": "2025-10-01T23:24:24.248424Z",
     "iopub.status.idle": "2025-10-01T23:24:24.253335Z",
     "shell.execute_reply": "2025-10-01T23:24:24.252664Z"
    },
    "papermill": {
     "duration": 0.021237,
     "end_time": "2025-10-01T23:24:24.254491",
     "exception": false,
     "start_time": "2025-10-01T23:24:24.233254",
     "status": "completed"
    },
    "tags": []
   },
   "outputs": [
    {
     "data": {
      "text/plain": [
       "(9659, 16)"
      ]
     },
     "execution_count": 47,
     "metadata": {},
     "output_type": "execute_result"
    }
   ],
   "source": [
    "df_clean.shape"
   ]
  },
  {
   "cell_type": "code",
   "execution_count": 48,
   "id": "0cf92b28",
   "metadata": {
    "execution": {
     "iopub.execute_input": "2025-10-01T23:24:24.284635Z",
     "iopub.status.busy": "2025-10-01T23:24:24.284338Z",
     "iopub.status.idle": "2025-10-01T23:24:24.290961Z",
     "shell.execute_reply": "2025-10-01T23:24:24.289873Z"
    },
    "papermill": {
     "duration": 0.02367,
     "end_time": "2025-10-01T23:24:24.292429",
     "exception": false,
     "start_time": "2025-10-01T23:24:24.268759",
     "status": "completed"
    },
    "tags": []
   },
   "outputs": [
    {
     "name": "stdout",
     "output_type": "stream",
     "text": [
      "We have 9 numerical features : ['Rating', 'Reviews', 'Size', 'Installs', 'Price', 'Last Updated', 'Day', 'Month', 'Year']\n",
      "\n",
      "We have 7 categorical features : ['App', 'Category', 'Type', 'Content Rating', 'Genres', 'Current Ver', 'Android Ver']\n"
     ]
    }
   ],
   "source": [
    "numeric_features = [feature for feature in df_clean.columns if df_clean[feature].dtype !='O']\n",
    "categorical_features = [feature for feature in df_clean.columns if df_clean[feature].dtype =='O']\n",
    "#'O' means Object\n",
    "\n",
    "print('We have {} numerical features : {}'.format(len(numeric_features),numeric_features))\n",
    "print('\\nWe have {} categorical features : {}'.format(len(categorical_features),categorical_features))\n"
   ]
  },
  {
   "cell_type": "code",
   "execution_count": 49,
   "id": "2fea54f1",
   "metadata": {
    "execution": {
     "iopub.execute_input": "2025-10-01T23:24:24.322380Z",
     "iopub.status.busy": "2025-10-01T23:24:24.322046Z",
     "iopub.status.idle": "2025-10-01T23:24:27.306344Z",
     "shell.execute_reply": "2025-10-01T23:24:27.305524Z"
    },
    "papermill": {
     "duration": 3.003062,
     "end_time": "2025-10-01T23:24:27.309966",
     "exception": false,
     "start_time": "2025-10-01T23:24:24.306904",
     "status": "completed"
    },
    "tags": []
   },
   "outputs": [
    {
     "name": "stderr",
     "output_type": "stream",
     "text": [
      "/usr/local/lib/python3.11/dist-packages/seaborn/_oldcore.py:1119: FutureWarning: use_inf_as_na option is deprecated and will be removed in a future version. Convert inf values to NaN before operating instead.\n",
      "  with pd.option_context('mode.use_inf_as_na', True):\n",
      "/usr/local/lib/python3.11/dist-packages/seaborn/_oldcore.py:1119: FutureWarning: use_inf_as_na option is deprecated and will be removed in a future version. Convert inf values to NaN before operating instead.\n",
      "  with pd.option_context('mode.use_inf_as_na', True):\n",
      "/tmp/ipykernel_13/2138057923.py:9: UserWarning: The figure layout has changed to tight\n",
      "  plt.tight_layout() #adjust the spaces between and around subplots\n",
      "/usr/local/lib/python3.11/dist-packages/seaborn/_oldcore.py:1119: FutureWarning: use_inf_as_na option is deprecated and will be removed in a future version. Convert inf values to NaN before operating instead.\n",
      "  with pd.option_context('mode.use_inf_as_na', True):\n",
      "/tmp/ipykernel_13/2138057923.py:9: UserWarning: The figure layout has changed to tight\n",
      "  plt.tight_layout() #adjust the spaces between and around subplots\n",
      "/usr/local/lib/python3.11/dist-packages/seaborn/_oldcore.py:1119: FutureWarning: use_inf_as_na option is deprecated and will be removed in a future version. Convert inf values to NaN before operating instead.\n",
      "  with pd.option_context('mode.use_inf_as_na', True):\n",
      "/tmp/ipykernel_13/2138057923.py:9: UserWarning: The figure layout has changed to tight\n",
      "  plt.tight_layout() #adjust the spaces between and around subplots\n",
      "/usr/local/lib/python3.11/dist-packages/seaborn/_oldcore.py:1119: FutureWarning: use_inf_as_na option is deprecated and will be removed in a future version. Convert inf values to NaN before operating instead.\n",
      "  with pd.option_context('mode.use_inf_as_na', True):\n",
      "/tmp/ipykernel_13/2138057923.py:9: UserWarning: The figure layout has changed to tight\n",
      "  plt.tight_layout() #adjust the spaces between and around subplots\n",
      "/usr/local/lib/python3.11/dist-packages/seaborn/_oldcore.py:1119: FutureWarning: use_inf_as_na option is deprecated and will be removed in a future version. Convert inf values to NaN before operating instead.\n",
      "  with pd.option_context('mode.use_inf_as_na', True):\n",
      "/tmp/ipykernel_13/2138057923.py:9: UserWarning: The figure layout has changed to tight\n",
      "  plt.tight_layout() #adjust the spaces between and around subplots\n",
      "/usr/local/lib/python3.11/dist-packages/seaborn/_oldcore.py:1119: FutureWarning: use_inf_as_na option is deprecated and will be removed in a future version. Convert inf values to NaN before operating instead.\n",
      "  with pd.option_context('mode.use_inf_as_na', True):\n",
      "/tmp/ipykernel_13/2138057923.py:9: UserWarning: The figure layout has changed to tight\n",
      "  plt.tight_layout() #adjust the spaces between and around subplots\n",
      "/usr/local/lib/python3.11/dist-packages/seaborn/_oldcore.py:1119: FutureWarning: use_inf_as_na option is deprecated and will be removed in a future version. Convert inf values to NaN before operating instead.\n",
      "  with pd.option_context('mode.use_inf_as_na', True):\n",
      "/tmp/ipykernel_13/2138057923.py:9: UserWarning: The figure layout has changed to tight\n",
      "  plt.tight_layout() #adjust the spaces between and around subplots\n",
      "/usr/local/lib/python3.11/dist-packages/seaborn/_oldcore.py:1119: FutureWarning: use_inf_as_na option is deprecated and will be removed in a future version. Convert inf values to NaN before operating instead.\n",
      "  with pd.option_context('mode.use_inf_as_na', True):\n",
      "/tmp/ipykernel_13/2138057923.py:9: UserWarning: The figure layout has changed to tight\n",
      "  plt.tight_layout() #adjust the spaces between and around subplots\n"
     ]
    },
    {
     "data": {
      "image/png": "[encoded data removed]",
      "text/plain": [
       "<Figure size 1500x1500 with 9 Axes>"
      ]
     },
     "metadata": {},
     "output_type": "display_data"
    }
   ],
   "source": [
    "#numerical features\n",
    "plt.figure(figsize=(15,15))\n",
    "plt.suptitle('Numerical Features', fontsize=18, fontweight='bold')\n",
    "\n",
    "for i in range(0,len(numeric_features)):\n",
    "    plt.subplot(5,3,i+1)\n",
    "    sns.kdeplot(x=df_clean[numeric_features[i]], fill=True, color='b')\n",
    "    plt.xlabel(numeric_features[i])\n",
    "    plt.tight_layout() #adjust the spaces between and around subplots\n",
    "plt.show()"
   ]
  },
  {
   "cell_type": "code",
   "execution_count": 50,
   "id": "03fbae8b",
   "metadata": {
    "execution": {
     "iopub.execute_input": "2025-10-01T23:24:27.347447Z",
     "iopub.status.busy": "2025-10-01T23:24:27.347123Z",
     "iopub.status.idle": "2025-10-01T23:24:27.363162Z",
     "shell.execute_reply": "2025-10-01T23:24:27.362237Z"
    },
    "papermill": {
     "duration": 0.036576,
     "end_time": "2025-10-01T23:24:27.364545",
     "exception": false,
     "start_time": "2025-10-01T23:24:27.327969",
     "status": "completed"
    },
    "tags": []
   },
   "outputs": [
    {
     "data": {
      "text/plain": [
       "App               9659\n",
       "Category            33\n",
       "Rating              39\n",
       "Reviews           5330\n",
       "Size               459\n",
       "Installs            20\n",
       "Type                 2\n",
       "Price               92\n",
       "Content Rating       6\n",
       "Genres             118\n",
       "Last Updated      1377\n",
       "Current Ver       2817\n",
       "Android Ver         33\n",
       "Day                 31\n",
       "Month               12\n",
       "Year                 9\n",
       "dtype: int64"
      ]
     },
     "execution_count": 50,
     "metadata": {},
     "output_type": "execute_result"
    }
   ],
   "source": [
    "df_clean.nunique() # we check how many unique values each columns has"
   ]
  },
  {
   "cell_type": "code",
   "execution_count": 51,
   "id": "08dbb6a5",
   "metadata": {
    "execution": {
     "iopub.execute_input": "2025-10-01T23:24:27.400122Z",
     "iopub.status.busy": "2025-10-01T23:24:27.399816Z",
     "iopub.status.idle": "2025-10-01T23:24:27.734599Z",
     "shell.execute_reply": "2025-10-01T23:24:27.733537Z"
    },
    "papermill": {
     "duration": 0.354201,
     "end_time": "2025-10-01T23:24:27.736041",
     "exception": false,
     "start_time": "2025-10-01T23:24:27.381840",
     "status": "completed"
    },
    "tags": []
   },
   "outputs": [
    {
     "name": "stderr",
     "output_type": "stream",
     "text": [
      "/tmp/ipykernel_13/2123855109.py:10: UserWarning: The figure layout has changed to tight\n",
      "  plt.tight_layout()\n"
     ]
    },
    {
     "data": {
      "image/png": "[encoded data removed]",
      "text/plain": [
       "<Figure size 2000x1500 with 2 Axes>"
      ]
     },
     "metadata": {},
     "output_type": "display_data"
    }
   ],
   "source": [
    "#Categorical Columns\n",
    "plt.figure(figsize=(20,15))\n",
    "plt.suptitle('Categorical Features',fontsize=18, fontweight='bold')\n",
    "category = ['Type','Content Rating']\n",
    "\n",
    "for i in range(0,len(category)):\n",
    "    plt.subplot(2,2,i+1)\n",
    "    sns.countplot(x=df_clean[category[i]])\n",
    "    plt.xlabel(category[i])\n",
    "    plt.tight_layout()\n",
    "plt.show()"
   ]
  },
  {
   "cell_type": "code",
   "execution_count": 52,
   "id": "990bfd31",
   "metadata": {
    "execution": {
     "iopub.execute_input": "2025-10-01T23:24:27.774534Z",
     "iopub.status.busy": "2025-10-01T23:24:27.773722Z",
     "iopub.status.idle": "2025-10-01T23:24:27.781237Z",
     "shell.execute_reply": "2025-10-01T23:24:27.780586Z"
    },
    "papermill": {
     "duration": 0.027601,
     "end_time": "2025-10-01T23:24:27.782509",
     "exception": false,
     "start_time": "2025-10-01T23:24:27.754908",
     "status": "completed"
    },
    "tags": []
   },
   "outputs": [
    {
     "data": {
      "text/plain": [
       "Category\n",
       "FAMILY                 1832\n",
       "GAME                    959\n",
       "TOOLS                   827\n",
       "BUSINESS                420\n",
       "MEDICAL                 395\n",
       "PERSONALIZATION         376\n",
       "PRODUCTIVITY            374\n",
       "LIFESTYLE               369\n",
       "FINANCE                 345\n",
       "SPORTS                  325\n",
       "COMMUNICATION           315\n",
       "HEALTH_AND_FITNESS      288\n",
       "PHOTOGRAPHY             281\n",
       "NEWS_AND_MAGAZINES      254\n",
       "SOCIAL                  239\n",
       "BOOKS_AND_REFERENCE     222\n",
       "TRAVEL_AND_LOCAL        219\n",
       "SHOPPING                202\n",
       "DATING                  171\n",
       "VIDEO_PLAYERS           163\n",
       "MAPS_AND_NAVIGATION     131\n",
       "EDUCATION               119\n",
       "FOOD_AND_DRINK          112\n",
       "ENTERTAINMENT           102\n",
       "AUTO_AND_VEHICLES        85\n",
       "LIBRARIES_AND_DEMO       84\n",
       "WEATHER                  79\n",
       "HOUSE_AND_HOME           74\n",
       "EVENTS                   64\n",
       "ART_AND_DESIGN           64\n",
       "PARENTING                60\n",
       "COMICS                   56\n",
       "BEAUTY                   53\n",
       "Name: count, dtype: int64"
      ]
     },
     "execution_count": 52,
     "metadata": {},
     "output_type": "execute_result"
    }
   ],
   "source": [
    "# Top App Categories with count\n",
    "df_clean['Category'].value_counts()"
   ]
  },
  {
   "cell_type": "code",
   "execution_count": 53,
   "id": "5200b6cf",
   "metadata": {
    "execution": {
     "iopub.execute_input": "2025-10-01T23:24:27.820348Z",
     "iopub.status.busy": "2025-10-01T23:24:27.820068Z",
     "iopub.status.idle": "2025-10-01T23:24:27.826961Z",
     "shell.execute_reply": "2025-10-01T23:24:27.826361Z"
    },
    "papermill": {
     "duration": 0.027116,
     "end_time": "2025-10-01T23:24:27.828269",
     "exception": false,
     "start_time": "2025-10-01T23:24:27.801153",
     "status": "completed"
    },
    "tags": []
   },
   "outputs": [],
   "source": [
    "# Topp app categories by installment\n",
    "df_cat_installs = df_clean.groupby(['Category'])['Installs'].sum().sort_values(ascending=False).reset_index()\n",
    "#\"ascending=False : means we want to sort the values from biggest to smallest\""
   ]
  },
  {
   "cell_type": "code",
   "execution_count": 54,
   "id": "bfe71e64",
   "metadata": {
    "execution": {
     "iopub.execute_input": "2025-10-01T23:24:27.866268Z",
     "iopub.status.busy": "2025-10-01T23:24:27.865648Z",
     "iopub.status.idle": "2025-10-01T23:24:27.874643Z",
     "shell.execute_reply": "2025-10-01T23:24:27.873837Z"
    },
    "papermill": {
     "duration": 0.029757,
     "end_time": "2025-10-01T23:24:27.876026",
     "exception": false,
     "start_time": "2025-10-01T23:24:27.846269",
     "status": "completed"
    },
    "tags": []
   },
   "outputs": [
    {
     "data": {
      "text/html": [
       "<div>\n",
       "<style scoped>\n",
       "    .dataframe tbody tr th:only-of-type {\n",
       "        vertical-align: middle;\n",
       "    }\n",
       "\n",
       "    .dataframe tbody tr th {\n",
       "        vertical-align: top;\n",
       "    }\n",
       "\n",
       "    .dataframe thead th {\n",
       "        text-align: right;\n",
       "    }\n",
       "</style>\n",
       "<table border=\"1\" class=\"dataframe\">\n",
       "  <thead>\n",
       "    <tr style=\"text-align: right;\">\n",
       "      <th></th>\n",
       "      <th>Category</th>\n",
       "      <th>Installs</th>\n",
       "    </tr>\n",
       "  </thead>\n",
       "  <tbody>\n",
       "    <tr>\n",
       "      <th>0</th>\n",
       "      <td>GAME</td>\n",
       "      <td>13878924415</td>\n",
       "    </tr>\n",
       "    <tr>\n",
       "      <th>1</th>\n",
       "      <td>COMMUNICATION</td>\n",
       "      <td>11038276251</td>\n",
       "    </tr>\n",
       "    <tr>\n",
       "      <th>2</th>\n",
       "      <td>TOOLS</td>\n",
       "      <td>8001771915</td>\n",
       "    </tr>\n",
       "    <tr>\n",
       "      <th>3</th>\n",
       "      <td>PRODUCTIVITY</td>\n",
       "      <td>5793091369</td>\n",
       "    </tr>\n",
       "    <tr>\n",
       "      <th>4</th>\n",
       "      <td>SOCIAL</td>\n",
       "      <td>5487867902</td>\n",
       "    </tr>\n",
       "    <tr>\n",
       "      <th>5</th>\n",
       "      <td>PHOTOGRAPHY</td>\n",
       "      <td>4649147655</td>\n",
       "    </tr>\n",
       "    <tr>\n",
       "      <th>6</th>\n",
       "      <td>FAMILY</td>\n",
       "      <td>4427941505</td>\n",
       "    </tr>\n",
       "    <tr>\n",
       "      <th>7</th>\n",
       "      <td>VIDEO_PLAYERS</td>\n",
       "      <td>3926902720</td>\n",
       "    </tr>\n",
       "    <tr>\n",
       "      <th>8</th>\n",
       "      <td>TRAVEL_AND_LOCAL</td>\n",
       "      <td>2894887146</td>\n",
       "    </tr>\n",
       "    <tr>\n",
       "      <th>9</th>\n",
       "      <td>NEWS_AND_MAGAZINES</td>\n",
       "      <td>2369217760</td>\n",
       "    </tr>\n",
       "    <tr>\n",
       "      <th>10</th>\n",
       "      <td>ENTERTAINMENT</td>\n",
       "      <td>2113660000</td>\n",
       "    </tr>\n",
       "    <tr>\n",
       "      <th>11</th>\n",
       "      <td>BOOKS_AND_REFERENCE</td>\n",
       "      <td>1665969576</td>\n",
       "    </tr>\n",
       "    <tr>\n",
       "      <th>12</th>\n",
       "      <td>PERSONALIZATION</td>\n",
       "      <td>1532494782</td>\n",
       "    </tr>\n",
       "    <tr>\n",
       "      <th>13</th>\n",
       "      <td>SHOPPING</td>\n",
       "      <td>1400348785</td>\n",
       "    </tr>\n",
       "    <tr>\n",
       "      <th>14</th>\n",
       "      <td>HEALTH_AND_FITNESS</td>\n",
       "      <td>1144022512</td>\n",
       "    </tr>\n",
       "    <tr>\n",
       "      <th>15</th>\n",
       "      <td>SPORTS</td>\n",
       "      <td>1096474498</td>\n",
       "    </tr>\n",
       "    <tr>\n",
       "      <th>16</th>\n",
       "      <td>BUSINESS</td>\n",
       "      <td>697164865</td>\n",
       "    </tr>\n",
       "    <tr>\n",
       "      <th>17</th>\n",
       "      <td>LIFESTYLE</td>\n",
       "      <td>503823539</td>\n",
       "    </tr>\n",
       "    <tr>\n",
       "      <th>18</th>\n",
       "      <td>MAPS_AND_NAVIGATION</td>\n",
       "      <td>503281890</td>\n",
       "    </tr>\n",
       "    <tr>\n",
       "      <th>19</th>\n",
       "      <td>FINANCE</td>\n",
       "      <td>455348734</td>\n",
       "    </tr>\n",
       "    <tr>\n",
       "      <th>20</th>\n",
       "      <td>WEATHER</td>\n",
       "      <td>361100520</td>\n",
       "    </tr>\n",
       "    <tr>\n",
       "      <th>21</th>\n",
       "      <td>EDUCATION</td>\n",
       "      <td>352952000</td>\n",
       "    </tr>\n",
       "    <tr>\n",
       "      <th>22</th>\n",
       "      <td>FOOD_AND_DRINK</td>\n",
       "      <td>211798751</td>\n",
       "    </tr>\n",
       "    <tr>\n",
       "      <th>23</th>\n",
       "      <td>DATING</td>\n",
       "      <td>140926107</td>\n",
       "    </tr>\n",
       "    <tr>\n",
       "      <th>24</th>\n",
       "      <td>ART_AND_DESIGN</td>\n",
       "      <td>114338100</td>\n",
       "    </tr>\n",
       "    <tr>\n",
       "      <th>25</th>\n",
       "      <td>HOUSE_AND_HOME</td>\n",
       "      <td>97212461</td>\n",
       "    </tr>\n",
       "    <tr>\n",
       "      <th>26</th>\n",
       "      <td>AUTO_AND_VEHICLES</td>\n",
       "      <td>53130211</td>\n",
       "    </tr>\n",
       "    <tr>\n",
       "      <th>27</th>\n",
       "      <td>LIBRARIES_AND_DEMO</td>\n",
       "      <td>52995910</td>\n",
       "    </tr>\n",
       "    <tr>\n",
       "      <th>28</th>\n",
       "      <td>COMICS</td>\n",
       "      <td>44981150</td>\n",
       "    </tr>\n",
       "    <tr>\n",
       "      <th>29</th>\n",
       "      <td>MEDICAL</td>\n",
       "      <td>38193177</td>\n",
       "    </tr>\n",
       "    <tr>\n",
       "      <th>30</th>\n",
       "      <td>PARENTING</td>\n",
       "      <td>31521110</td>\n",
       "    </tr>\n",
       "    <tr>\n",
       "      <th>31</th>\n",
       "      <td>BEAUTY</td>\n",
       "      <td>27197050</td>\n",
       "    </tr>\n",
       "    <tr>\n",
       "      <th>32</th>\n",
       "      <td>EVENTS</td>\n",
       "      <td>15973161</td>\n",
       "    </tr>\n",
       "  </tbody>\n",
       "</table>\n",
       "</div>"
      ],
      "text/plain": [
       "               Category     Installs\n",
       "0                  GAME  13878924415\n",
       "1         COMMUNICATION  11038276251\n",
       "2                 TOOLS   8001771915\n",
       "3          PRODUCTIVITY   5793091369\n",
       "4                SOCIAL   5487867902\n",
       "5           PHOTOGRAPHY   4649147655\n",
       "6                FAMILY   4427941505\n",
       "7         VIDEO_PLAYERS   3926902720\n",
       "8      TRAVEL_AND_LOCAL   2894887146\n",
       "9    NEWS_AND_MAGAZINES   2369217760\n",
       "10        ENTERTAINMENT   2113660000\n",
       "11  BOOKS_AND_REFERENCE   1665969576\n",
       "12      PERSONALIZATION   1532494782\n",
       "13             SHOPPING   1400348785\n",
       "14   HEALTH_AND_FITNESS   1144022512\n",
       "15               SPORTS   1096474498\n",
       "16             BUSINESS    697164865\n",
       "17            LIFESTYLE    503823539\n",
       "18  MAPS_AND_NAVIGATION    503281890\n",
       "19              FINANCE    455348734\n",
       "20              WEATHER    361100520\n",
       "21            EDUCATION    352952000\n",
       "22       FOOD_AND_DRINK    211798751\n",
       "23               DATING    140926107\n",
       "24       ART_AND_DESIGN    114338100\n",
       "25       HOUSE_AND_HOME     97212461\n",
       "26    AUTO_AND_VEHICLES     53130211\n",
       "27   LIBRARIES_AND_DEMO     52995910\n",
       "28               COMICS     44981150\n",
       "29              MEDICAL     38193177\n",
       "30            PARENTING     31521110\n",
       "31               BEAUTY     27197050\n",
       "32               EVENTS     15973161"
      ]
     },
     "execution_count": 54,
     "metadata": {},
     "output_type": "execute_result"
    }
   ],
   "source": [
    "df_cat_installs"
   ]
  },
  {
   "cell_type": "code",
   "execution_count": 55,
   "id": "8137befe",
   "metadata": {
    "execution": {
     "iopub.execute_input": "2025-10-01T23:24:27.913914Z",
     "iopub.status.busy": "2025-10-01T23:24:27.913583Z",
     "iopub.status.idle": "2025-10-01T23:24:27.918410Z",
     "shell.execute_reply": "2025-10-01T23:24:27.917535Z"
    },
    "papermill": {
     "duration": 0.025309,
     "end_time": "2025-10-01T23:24:27.919756",
     "exception": false,
     "start_time": "2025-10-01T23:24:27.894447",
     "status": "completed"
    },
    "tags": []
   },
   "outputs": [],
   "source": [
    "df_cat_installs.Installs = (df_cat_installs.Installs/1000000000)"
   ]
  },
  {
   "cell_type": "code",
   "execution_count": 56,
   "id": "6610eecf",
   "metadata": {
    "execution": {
     "iopub.execute_input": "2025-10-01T23:24:27.959333Z",
     "iopub.status.busy": "2025-10-01T23:24:27.959011Z",
     "iopub.status.idle": "2025-10-01T23:24:27.968712Z",
     "shell.execute_reply": "2025-10-01T23:24:27.967817Z"
    },
    "papermill": {
     "duration": 0.031009,
     "end_time": "2025-10-01T23:24:27.970281",
     "exception": false,
     "start_time": "2025-10-01T23:24:27.939272",
     "status": "completed"
    },
    "tags": []
   },
   "outputs": [
    {
     "data": {
      "text/html": [
       "<div>\n",
       "<style scoped>\n",
       "    .dataframe tbody tr th:only-of-type {\n",
       "        vertical-align: middle;\n",
       "    }\n",
       "\n",
       "    .dataframe tbody tr th {\n",
       "        vertical-align: top;\n",
       "    }\n",
       "\n",
       "    .dataframe thead th {\n",
       "        text-align: right;\n",
       "    }\n",
       "</style>\n",
       "<table border=\"1\" class=\"dataframe\">\n",
       "  <thead>\n",
       "    <tr style=\"text-align: right;\">\n",
       "      <th></th>\n",
       "      <th>Category</th>\n",
       "      <th>Installs</th>\n",
       "    </tr>\n",
       "  </thead>\n",
       "  <tbody>\n",
       "    <tr>\n",
       "      <th>0</th>\n",
       "      <td>GAME</td>\n",
       "      <td>13.878924</td>\n",
       "    </tr>\n",
       "    <tr>\n",
       "      <th>1</th>\n",
       "      <td>COMMUNICATION</td>\n",
       "      <td>11.038276</td>\n",
       "    </tr>\n",
       "    <tr>\n",
       "      <th>2</th>\n",
       "      <td>TOOLS</td>\n",
       "      <td>8.001772</td>\n",
       "    </tr>\n",
       "    <tr>\n",
       "      <th>3</th>\n",
       "      <td>PRODUCTIVITY</td>\n",
       "      <td>5.793091</td>\n",
       "    </tr>\n",
       "    <tr>\n",
       "      <th>4</th>\n",
       "      <td>SOCIAL</td>\n",
       "      <td>5.487868</td>\n",
       "    </tr>\n",
       "    <tr>\n",
       "      <th>5</th>\n",
       "      <td>PHOTOGRAPHY</td>\n",
       "      <td>4.649148</td>\n",
       "    </tr>\n",
       "    <tr>\n",
       "      <th>6</th>\n",
       "      <td>FAMILY</td>\n",
       "      <td>4.427942</td>\n",
       "    </tr>\n",
       "    <tr>\n",
       "      <th>7</th>\n",
       "      <td>VIDEO_PLAYERS</td>\n",
       "      <td>3.926903</td>\n",
       "    </tr>\n",
       "    <tr>\n",
       "      <th>8</th>\n",
       "      <td>TRAVEL_AND_LOCAL</td>\n",
       "      <td>2.894887</td>\n",
       "    </tr>\n",
       "    <tr>\n",
       "      <th>9</th>\n",
       "      <td>NEWS_AND_MAGAZINES</td>\n",
       "      <td>2.369218</td>\n",
       "    </tr>\n",
       "    <tr>\n",
       "      <th>10</th>\n",
       "      <td>ENTERTAINMENT</td>\n",
       "      <td>2.113660</td>\n",
       "    </tr>\n",
       "    <tr>\n",
       "      <th>11</th>\n",
       "      <td>BOOKS_AND_REFERENCE</td>\n",
       "      <td>1.665970</td>\n",
       "    </tr>\n",
       "    <tr>\n",
       "      <th>12</th>\n",
       "      <td>PERSONALIZATION</td>\n",
       "      <td>1.532495</td>\n",
       "    </tr>\n",
       "    <tr>\n",
       "      <th>13</th>\n",
       "      <td>SHOPPING</td>\n",
       "      <td>1.400349</td>\n",
       "    </tr>\n",
       "    <tr>\n",
       "      <th>14</th>\n",
       "      <td>HEALTH_AND_FITNESS</td>\n",
       "      <td>1.144023</td>\n",
       "    </tr>\n",
       "    <tr>\n",
       "      <th>15</th>\n",
       "      <td>SPORTS</td>\n",
       "      <td>1.096474</td>\n",
       "    </tr>\n",
       "    <tr>\n",
       "      <th>16</th>\n",
       "      <td>BUSINESS</td>\n",
       "      <td>0.697165</td>\n",
       "    </tr>\n",
       "    <tr>\n",
       "      <th>17</th>\n",
       "      <td>LIFESTYLE</td>\n",
       "      <td>0.503824</td>\n",
       "    </tr>\n",
       "    <tr>\n",
       "      <th>18</th>\n",
       "      <td>MAPS_AND_NAVIGATION</td>\n",
       "      <td>0.503282</td>\n",
       "    </tr>\n",
       "    <tr>\n",
       "      <th>19</th>\n",
       "      <td>FINANCE</td>\n",
       "      <td>0.455349</td>\n",
       "    </tr>\n",
       "    <tr>\n",
       "      <th>20</th>\n",
       "      <td>WEATHER</td>\n",
       "      <td>0.361101</td>\n",
       "    </tr>\n",
       "    <tr>\n",
       "      <th>21</th>\n",
       "      <td>EDUCATION</td>\n",
       "      <td>0.352952</td>\n",
       "    </tr>\n",
       "    <tr>\n",
       "      <th>22</th>\n",
       "      <td>FOOD_AND_DRINK</td>\n",
       "      <td>0.211799</td>\n",
       "    </tr>\n",
       "    <tr>\n",
       "      <th>23</th>\n",
       "      <td>DATING</td>\n",
       "      <td>0.140926</td>\n",
       "    </tr>\n",
       "    <tr>\n",
       "      <th>24</th>\n",
       "      <td>ART_AND_DESIGN</td>\n",
       "      <td>0.114338</td>\n",
       "    </tr>\n",
       "    <tr>\n",
       "      <th>25</th>\n",
       "      <td>HOUSE_AND_HOME</td>\n",
       "      <td>0.097212</td>\n",
       "    </tr>\n",
       "    <tr>\n",
       "      <th>26</th>\n",
       "      <td>AUTO_AND_VEHICLES</td>\n",
       "      <td>0.053130</td>\n",
       "    </tr>\n",
       "    <tr>\n",
       "      <th>27</th>\n",
       "      <td>LIBRARIES_AND_DEMO</td>\n",
       "      <td>0.052996</td>\n",
       "    </tr>\n",
       "    <tr>\n",
       "      <th>28</th>\n",
       "      <td>COMICS</td>\n",
       "      <td>0.044981</td>\n",
       "    </tr>\n",
       "    <tr>\n",
       "      <th>29</th>\n",
       "      <td>MEDICAL</td>\n",
       "      <td>0.038193</td>\n",
       "    </tr>\n",
       "    <tr>\n",
       "      <th>30</th>\n",
       "      <td>PARENTING</td>\n",
       "      <td>0.031521</td>\n",
       "    </tr>\n",
       "    <tr>\n",
       "      <th>31</th>\n",
       "      <td>BEAUTY</td>\n",
       "      <td>0.027197</td>\n",
       "    </tr>\n",
       "    <tr>\n",
       "      <th>32</th>\n",
       "      <td>EVENTS</td>\n",
       "      <td>0.015973</td>\n",
       "    </tr>\n",
       "  </tbody>\n",
       "</table>\n",
       "</div>"
      ],
      "text/plain": [
       "               Category   Installs\n",
       "0                  GAME  13.878924\n",
       "1         COMMUNICATION  11.038276\n",
       "2                 TOOLS   8.001772\n",
       "3          PRODUCTIVITY   5.793091\n",
       "4                SOCIAL   5.487868\n",
       "5           PHOTOGRAPHY   4.649148\n",
       "6                FAMILY   4.427942\n",
       "7         VIDEO_PLAYERS   3.926903\n",
       "8      TRAVEL_AND_LOCAL   2.894887\n",
       "9    NEWS_AND_MAGAZINES   2.369218\n",
       "10        ENTERTAINMENT   2.113660\n",
       "11  BOOKS_AND_REFERENCE   1.665970\n",
       "12      PERSONALIZATION   1.532495\n",
       "13             SHOPPING   1.400349\n",
       "14   HEALTH_AND_FITNESS   1.144023\n",
       "15               SPORTS   1.096474\n",
       "16             BUSINESS   0.697165\n",
       "17            LIFESTYLE   0.503824\n",
       "18  MAPS_AND_NAVIGATION   0.503282\n",
       "19              FINANCE   0.455349\n",
       "20              WEATHER   0.361101\n",
       "21            EDUCATION   0.352952\n",
       "22       FOOD_AND_DRINK   0.211799\n",
       "23               DATING   0.140926\n",
       "24       ART_AND_DESIGN   0.114338\n",
       "25       HOUSE_AND_HOME   0.097212\n",
       "26    AUTO_AND_VEHICLES   0.053130\n",
       "27   LIBRARIES_AND_DEMO   0.052996\n",
       "28               COMICS   0.044981\n",
       "29              MEDICAL   0.038193\n",
       "30            PARENTING   0.031521\n",
       "31               BEAUTY   0.027197\n",
       "32               EVENTS   0.015973"
      ]
     },
     "execution_count": 56,
     "metadata": {},
     "output_type": "execute_result"
    }
   ],
   "source": [
    "df_cat_installs"
   ]
  },
  {
   "cell_type": "code",
   "execution_count": 57,
   "id": "88904e35",
   "metadata": {
    "execution": {
     "iopub.execute_input": "2025-10-01T23:24:28.009642Z",
     "iopub.status.busy": "2025-10-01T23:24:28.009324Z",
     "iopub.status.idle": "2025-10-01T23:24:28.332895Z",
     "shell.execute_reply": "2025-10-01T23:24:28.332137Z"
    },
    "papermill": {
     "duration": 0.346127,
     "end_time": "2025-10-01T23:24:28.335390",
     "exception": false,
     "start_time": "2025-10-01T23:24:27.989263",
     "status": "completed"
    },
    "tags": []
   },
   "outputs": [
    {
     "data": {
      "image/png": "[encoded data removed]",
      "text/plain": [
       "<Figure size 1400x1000 with 1 Axes>"
      ]
     },
     "metadata": {},
     "output_type": "display_data"
    }
   ],
   "source": [
    "#get only top 10\n",
    "df2 = df_cat_installs.head(10)\n",
    "plt.figure(figsize=(14,10))\n",
    "sns.set_context(\"talk\")\n",
    "sns.set_style(\"darkgrid\")\n",
    "\n",
    "ax = sns.barplot(x='Installs', y='Category', data=df2)\n",
    "ax.set_xlabel('No. Of Installations in Billions')\n",
    "ax.set_ylabel('')\n",
    "ax.set_title(\"Most Popular Categories in Play Store\", size=20)\n",
    "plt.show()"
   ]
  },
  {
   "cell_type": "code",
   "execution_count": 58,
   "id": "e6712432",
   "metadata": {
    "execution": {
     "iopub.execute_input": "2025-10-01T23:24:28.380872Z",
     "iopub.status.busy": "2025-10-01T23:24:28.380222Z",
     "iopub.status.idle": "2025-10-01T23:24:28.384456Z",
     "shell.execute_reply": "2025-10-01T23:24:28.383409Z"
    },
    "papermill": {
     "duration": 0.02777,
     "end_time": "2025-10-01T23:24:28.385921",
     "exception": false,
     "start_time": "2025-10-01T23:24:28.358151",
     "status": "completed"
    },
    "tags": []
   },
   "outputs": [],
   "source": [
    "# Top 5 most installed Apps in each popular category"
   ]
  },
  {
   "cell_type": "code",
   "execution_count": 59,
   "id": "b0b3da33",
   "metadata": {
    "execution": {
     "iopub.execute_input": "2025-10-01T23:24:28.436580Z",
     "iopub.status.busy": "2025-10-01T23:24:28.435744Z",
     "iopub.status.idle": "2025-10-01T23:24:30.139682Z",
     "shell.execute_reply": "2025-10-01T23:24:30.138814Z"
    },
    "papermill": {
     "duration": 1.731655,
     "end_time": "2025-10-01T23:24:30.145032",
     "exception": false,
     "start_time": "2025-10-01T23:24:28.413377",
     "status": "completed"
    },
    "tags": []
   },
   "outputs": [
    {
     "data": {
      "image/png": "[encoded data removed]",
      "text/plain": [
       "<Figure size 4000x3000 with 5 Axes>"
      ]
     },
     "metadata": {},
     "output_type": "display_data"
    }
   ],
   "source": [
    "df_app_category = df_clean.groupby(['Category','App'])['Installs'].sum().reset_index()\n",
    "df_app_category = df_app_category.sort_values('Installs',ascending=False)\n",
    "apps = ['GAME', 'COMMUNICATION','PRODUCTIVITY','SOCIAL','TOOLS']\n",
    "sns.set_context(\"poster\")\n",
    "sns.set_style(\"darkgrid\")\n",
    "\n",
    "plt.figure(figsize=(40,30))\n",
    "\n",
    "for i, app in enumerate(apps):\n",
    "    df2= df_app_category[df_app_category.Category == app]\n",
    "\n",
    "    #get only 5\n",
    "    df_top_5 = df2.head(5)\n",
    "    plt.subplot(4,2,i+1)\n",
    "    sns.barplot(data=df_top_5, x='Installs', y='App')\n",
    "    plt.xlabel('Installation in Millions')\n",
    "    plt.ylabel('')\n",
    "    plt.title(app,size = 20)\n",
    "\n",
    "plt.tight_layout()\n",
    "plt.subplots_adjust(hspace = .3)\n",
    "plt.show()"
   ]
  },
  {
   "cell_type": "code",
   "execution_count": 60,
   "id": "4b875e62",
   "metadata": {
    "execution": {
     "iopub.execute_input": "2025-10-01T23:24:30.197616Z",
     "iopub.status.busy": "2025-10-01T23:24:30.196757Z",
     "iopub.status.idle": "2025-10-01T23:24:30.220041Z",
     "shell.execute_reply": "2025-10-01T23:24:30.219215Z"
    },
    "papermill": {
     "duration": 0.05101,
     "end_time": "2025-10-01T23:24:30.221569",
     "exception": false,
     "start_time": "2025-10-01T23:24:30.170559",
     "status": "completed"
    },
    "tags": []
   },
   "outputs": [],
   "source": [
    "#how many 5 rated apps\n",
    "\n",
    "rating_df = df_clean.groupby(['Category','Installs','App'])['Rating'].sum().sort_values(ascending=False).reset_index()\n",
    "top_rated_apps = rating_df[rating_df.Rating == 5.0]"
   ]
  },
  {
   "cell_type": "code",
   "execution_count": 61,
   "id": "44516cb7",
   "metadata": {
    "execution": {
     "iopub.execute_input": "2025-10-01T23:24:30.272802Z",
     "iopub.status.busy": "2025-10-01T23:24:30.272496Z",
     "iopub.status.idle": "2025-10-01T23:24:30.278125Z",
     "shell.execute_reply": "2025-10-01T23:24:30.277421Z"
    },
    "papermill": {
     "duration": 0.033429,
     "end_time": "2025-10-01T23:24:30.279503",
     "exception": false,
     "start_time": "2025-10-01T23:24:30.246074",
     "status": "completed"
    },
    "tags": []
   },
   "outputs": [
    {
     "data": {
      "text/plain": [
       "(271, 4)"
      ]
     },
     "execution_count": 61,
     "metadata": {},
     "output_type": "execute_result"
    }
   ],
   "source": [
    "top_rated_apps.shape"
   ]
  },
  {
   "cell_type": "code",
   "execution_count": 62,
   "id": "9d4c2585",
   "metadata": {
    "execution": {
     "iopub.execute_input": "2025-10-01T23:24:30.330209Z",
     "iopub.status.busy": "2025-10-01T23:24:30.329510Z",
     "iopub.status.idle": "2025-10-01T23:24:30.339892Z",
     "shell.execute_reply": "2025-10-01T23:24:30.339142Z"
    },
    "papermill": {
     "duration": 0.037062,
     "end_time": "2025-10-01T23:24:30.341145",
     "exception": false,
     "start_time": "2025-10-01T23:24:30.304083",
     "status": "completed"
    },
    "tags": []
   },
   "outputs": [
    {
     "data": {
      "text/html": [
       "<div>\n",
       "<style scoped>\n",
       "    .dataframe tbody tr th:only-of-type {\n",
       "        vertical-align: middle;\n",
       "    }\n",
       "\n",
       "    .dataframe tbody tr th {\n",
       "        vertical-align: top;\n",
       "    }\n",
       "\n",
       "    .dataframe thead th {\n",
       "        text-align: right;\n",
       "    }\n",
       "</style>\n",
       "<table border=\"1\" class=\"dataframe\">\n",
       "  <thead>\n",
       "    <tr style=\"text-align: right;\">\n",
       "      <th></th>\n",
       "      <th>Category</th>\n",
       "      <th>Installs</th>\n",
       "      <th>App</th>\n",
       "      <th>Rating</th>\n",
       "    </tr>\n",
       "  </thead>\n",
       "  <tbody>\n",
       "    <tr>\n",
       "      <th>0</th>\n",
       "      <td>FAMILY</td>\n",
       "      <td>1000</td>\n",
       "      <td>CS &amp; IT Interview Questions</td>\n",
       "      <td>5.0</td>\n",
       "    </tr>\n",
       "    <tr>\n",
       "      <th>1</th>\n",
       "      <td>DATING</td>\n",
       "      <td>100</td>\n",
       "      <td>Online Girls Chat Group</td>\n",
       "      <td>5.0</td>\n",
       "    </tr>\n",
       "    <tr>\n",
       "      <th>2</th>\n",
       "      <td>FAMILY</td>\n",
       "      <td>10</td>\n",
       "      <td>Chronolink DX</td>\n",
       "      <td>5.0</td>\n",
       "    </tr>\n",
       "    <tr>\n",
       "      <th>3</th>\n",
       "      <td>DATING</td>\n",
       "      <td>500</td>\n",
       "      <td>Spine- The dating app</td>\n",
       "      <td>5.0</td>\n",
       "    </tr>\n",
       "    <tr>\n",
       "      <th>4</th>\n",
       "      <td>MEDICAL</td>\n",
       "      <td>5</td>\n",
       "      <td>Clinic Doctor EHr</td>\n",
       "      <td>5.0</td>\n",
       "    </tr>\n",
       "    <tr>\n",
       "      <th>...</th>\n",
       "      <td>...</td>\n",
       "      <td>...</td>\n",
       "      <td>...</td>\n",
       "      <td>...</td>\n",
       "    </tr>\n",
       "    <tr>\n",
       "      <th>266</th>\n",
       "      <td>SPORTS</td>\n",
       "      <td>50</td>\n",
       "      <td>CricQuick</td>\n",
       "      <td>5.0</td>\n",
       "    </tr>\n",
       "    <tr>\n",
       "      <th>267</th>\n",
       "      <td>COMICS</td>\n",
       "      <td>5000</td>\n",
       "      <td>Superheroes, Marvel, DC, Comics, TV, Movies News</td>\n",
       "      <td>5.0</td>\n",
       "    </tr>\n",
       "    <tr>\n",
       "      <th>268</th>\n",
       "      <td>SPORTS</td>\n",
       "      <td>100</td>\n",
       "      <td>FA Player Essentials</td>\n",
       "      <td>5.0</td>\n",
       "    </tr>\n",
       "    <tr>\n",
       "      <th>269</th>\n",
       "      <td>PRODUCTIVITY</td>\n",
       "      <td>100</td>\n",
       "      <td>iReadMe</td>\n",
       "      <td>5.0</td>\n",
       "    </tr>\n",
       "    <tr>\n",
       "      <th>270</th>\n",
       "      <td>FAMILY</td>\n",
       "      <td>1000</td>\n",
       "      <td>CG - Chemistry free</td>\n",
       "      <td>5.0</td>\n",
       "    </tr>\n",
       "  </tbody>\n",
       "</table>\n",
       "<p>271 rows × 4 columns</p>\n",
       "</div>"
      ],
      "text/plain": [
       "         Category  Installs                                               App  \\\n",
       "0          FAMILY      1000                       CS & IT Interview Questions   \n",
       "1          DATING       100                           Online Girls Chat Group   \n",
       "2          FAMILY        10                                     Chronolink DX   \n",
       "3          DATING       500                             Spine- The dating app   \n",
       "4         MEDICAL         5                                 Clinic Doctor EHr   \n",
       "..            ...       ...                                               ...   \n",
       "266        SPORTS        50                                         CricQuick   \n",
       "267        COMICS      5000  Superheroes, Marvel, DC, Comics, TV, Movies News   \n",
       "268        SPORTS       100                              FA Player Essentials   \n",
       "269  PRODUCTIVITY       100                                           iReadMe   \n",
       "270        FAMILY      1000                               CG - Chemistry free   \n",
       "\n",
       "     Rating  \n",
       "0       5.0  \n",
       "1       5.0  \n",
       "2       5.0  \n",
       "3       5.0  \n",
       "4       5.0  \n",
       "..      ...  \n",
       "266     5.0  \n",
       "267     5.0  \n",
       "268     5.0  \n",
       "269     5.0  \n",
       "270     5.0  \n",
       "\n",
       "[271 rows x 4 columns]"
      ]
     },
     "execution_count": 62,
     "metadata": {},
     "output_type": "execute_result"
    }
   ],
   "source": [
    "top_rated_apps"
   ]
  },
  {
   "cell_type": "code",
   "execution_count": 63,
   "id": "b1e63ac6",
   "metadata": {
    "execution": {
     "iopub.execute_input": "2025-10-01T23:24:30.394052Z",
     "iopub.status.busy": "2025-10-01T23:24:30.393723Z",
     "iopub.status.idle": "2025-10-01T23:24:30.407225Z",
     "shell.execute_reply": "2025-10-01T23:24:30.406159Z"
    },
    "papermill": {
     "duration": 0.040809,
     "end_time": "2025-10-01T23:24:30.408655",
     "exception": false,
     "start_time": "2025-10-01T23:24:30.367846",
     "status": "completed"
    },
    "tags": []
   },
   "outputs": [
    {
     "name": "stdout",
     "output_type": "stream",
     "text": [
      "<class 'pandas.core.frame.DataFrame'>\n",
      "Index: 9659 entries, 0 to 10840\n",
      "Data columns (total 16 columns):\n",
      " #   Column          Non-Null Count  Dtype         \n",
      "---  ------          --------------  -----         \n",
      " 0   App             9659 non-null   object        \n",
      " 1   Category        9659 non-null   object        \n",
      " 2   Rating          8196 non-null   float64       \n",
      " 3   Reviews         9659 non-null   int64         \n",
      " 4   Size            8432 non-null   float64       \n",
      " 5   Installs        9659 non-null   int64         \n",
      " 6   Type            9658 non-null   object        \n",
      " 7   Price           9659 non-null   float64       \n",
      " 8   Content Rating  9659 non-null   object        \n",
      " 9   Genres          9659 non-null   object        \n",
      " 10  Last Updated    9659 non-null   datetime64[ns]\n",
      " 11  Current Ver     9651 non-null   object        \n",
      " 12  Android Ver     9657 non-null   object        \n",
      " 13  Day             9659 non-null   int32         \n",
      " 14  Month           9659 non-null   int32         \n",
      " 15  Year            9659 non-null   int32         \n",
      "dtypes: datetime64[ns](1), float64(3), int32(3), int64(2), object(7)\n",
      "memory usage: 1.1+ MB\n"
     ]
    }
   ],
   "source": [
    "df_clean.info()"
   ]
  },
  {
   "cell_type": "code",
   "execution_count": 64,
   "id": "d178cb9c",
   "metadata": {
    "execution": {
     "iopub.execute_input": "2025-10-01T23:24:30.459571Z",
     "iopub.status.busy": "2025-10-01T23:24:30.459293Z",
     "iopub.status.idle": "2025-10-01T23:24:30.463283Z",
     "shell.execute_reply": "2025-10-01T23:24:30.462394Z"
    },
    "papermill": {
     "duration": 0.030917,
     "end_time": "2025-10-01T23:24:30.464655",
     "exception": false,
     "start_time": "2025-10-01T23:24:30.433738",
     "status": "completed"
    },
    "tags": []
   },
   "outputs": [],
   "source": [
    "#data cleaning is still going on"
   ]
  },
  {
   "cell_type": "code",
   "execution_count": 65,
   "id": "5a9e2973",
   "metadata": {
    "execution": {
     "iopub.execute_input": "2025-10-01T23:24:30.517509Z",
     "iopub.status.busy": "2025-10-01T23:24:30.517204Z",
     "iopub.status.idle": "2025-10-01T23:24:30.524388Z",
     "shell.execute_reply": "2025-10-01T23:24:30.523588Z"
    },
    "papermill": {
     "duration": 0.035646,
     "end_time": "2025-10-01T23:24:30.525765",
     "exception": false,
     "start_time": "2025-10-01T23:24:30.490119",
     "status": "completed"
    },
    "tags": []
   },
   "outputs": [
    {
     "data": {
      "text/plain": [
       "0              4.0.3 and up\n",
       "1              4.0.3 and up\n",
       "2              4.0.3 and up\n",
       "3                4.2 and up\n",
       "4                4.4 and up\n",
       "                ...        \n",
       "10836            4.1 and up\n",
       "10837            4.1 and up\n",
       "10838            2.2 and up\n",
       "10839    Varies with device\n",
       "10840    Varies with device\n",
       "Name: Android Ver, Length: 9659, dtype: object"
      ]
     },
     "execution_count": 65,
     "metadata": {},
     "output_type": "execute_result"
    }
   ],
   "source": [
    "df_clean['Android Ver']"
   ]
  },
  {
   "cell_type": "code",
   "execution_count": 66,
   "id": "1643cfc1",
   "metadata": {
    "execution": {
     "iopub.execute_input": "2025-10-01T23:24:30.576703Z",
     "iopub.status.busy": "2025-10-01T23:24:30.576435Z",
     "iopub.status.idle": "2025-10-01T23:24:30.598651Z",
     "shell.execute_reply": "2025-10-01T23:24:30.597888Z"
    },
    "papermill": {
     "duration": 0.049787,
     "end_time": "2025-10-01T23:24:30.600198",
     "exception": false,
     "start_time": "2025-10-01T23:24:30.550411",
     "status": "completed"
    },
    "tags": []
   },
   "outputs": [],
   "source": [
    "#target = ['Varies with device','and up','W']\n",
    "#col = ['Android Ver']\n",
    "\n",
    "#for item in target:\n",
    "    #for x in col:\n",
    "        #df_clean[x] = df_clean[x].replace(item,\"\",regex=True)\n",
    "\n",
    "df_clean['Android Ver'] = df_clean['Android Ver'].replace('and up','',regex=True).replace('Varies with device','',regex=True).replace('W','',regex=True).replace('', np.nan)"
   ]
  },
  {
   "cell_type": "code",
   "execution_count": 67,
   "id": "d92700ad",
   "metadata": {
    "execution": {
     "iopub.execute_input": "2025-10-01T23:24:30.657947Z",
     "iopub.status.busy": "2025-10-01T23:24:30.657627Z",
     "iopub.status.idle": "2025-10-01T23:24:30.666185Z",
     "shell.execute_reply": "2025-10-01T23:24:30.665259Z"
    },
    "papermill": {
     "duration": 0.039124,
     "end_time": "2025-10-01T23:24:30.667642",
     "exception": false,
     "start_time": "2025-10-01T23:24:30.628518",
     "status": "completed"
    },
    "tags": []
   },
   "outputs": [
    {
     "data": {
      "text/plain": [
       "Android Ver\n",
       "4.1              2202\n",
       "4.0.3            1395\n",
       "4.0              1285\n",
       "4.4               829\n",
       "2.3               616\n",
       "5.0               512\n",
       "4.2               372\n",
       "2.3.3             273\n",
       "2.2               239\n",
       "3.0               231\n",
       "4.3               221\n",
       "2.1               133\n",
       "1.6               116\n",
       "6.0                54\n",
       "7.0                42\n",
       "3.2                36\n",
       "2.0                32\n",
       "5.1                22\n",
       "1.5                20\n",
       "3.1                10\n",
       "2.0.1               7\n",
       "8.0                 6\n",
       "7.1                 3\n",
       "4.0.3 - 7.1.1       2\n",
       "5.0 - 8.0           2\n",
       "1.0                 2\n",
       "7.0 - 7.1.1         1\n",
       "4.1 - 7.1.1         1\n",
       "5.0 - 6.0           1\n",
       "2.2 - 7.1.1         1\n",
       "5.0 - 7.1.1         1\n",
       "Name: count, dtype: int64"
      ]
     },
     "execution_count": 67,
     "metadata": {},
     "output_type": "execute_result"
    }
   ],
   "source": [
    "df_clean['Android Ver'].value_counts()"
   ]
  },
  {
   "cell_type": "code",
   "execution_count": 68,
   "id": "13817611",
   "metadata": {
    "execution": {
     "iopub.execute_input": "2025-10-01T23:24:30.720569Z",
     "iopub.status.busy": "2025-10-01T23:24:30.720284Z",
     "iopub.status.idle": "2025-10-01T23:24:30.730681Z",
     "shell.execute_reply": "2025-10-01T23:24:30.729781Z"
    },
    "papermill": {
     "duration": 0.039045,
     "end_time": "2025-10-01T23:24:30.732211",
     "exception": false,
     "start_time": "2025-10-01T23:24:30.693166",
     "status": "completed"
    },
    "tags": []
   },
   "outputs": [
    {
     "data": {
      "text/plain": [
       "9"
      ]
     },
     "execution_count": 68,
     "metadata": {},
     "output_type": "execute_result"
    }
   ],
   "source": [
    "(df_clean['Android Ver'].str.contains('-') == True).sum()"
   ]
  },
  {
   "cell_type": "code",
   "execution_count": 69,
   "id": "95391889",
   "metadata": {
    "execution": {
     "iopub.execute_input": "2025-10-01T23:24:30.785301Z",
     "iopub.status.busy": "2025-10-01T23:24:30.785011Z",
     "iopub.status.idle": "2025-10-01T23:24:30.805906Z",
     "shell.execute_reply": "2025-10-01T23:24:30.805064Z"
    },
    "papermill": {
     "duration": 0.048948,
     "end_time": "2025-10-01T23:24:30.807302",
     "exception": false,
     "start_time": "2025-10-01T23:24:30.758354",
     "status": "completed"
    },
    "tags": []
   },
   "outputs": [
    {
     "name": "stderr",
     "output_type": "stream",
     "text": [
      "/usr/local/lib/python3.11/dist-packages/pandas/io/formats/format.py:1458: RuntimeWarning: invalid value encountered in greater\n",
      "  has_large_values = (abs_vals > 1e6).any()\n",
      "/usr/local/lib/python3.11/dist-packages/pandas/io/formats/format.py:1459: RuntimeWarning: invalid value encountered in less\n",
      "  has_small_values = ((abs_vals < 10 ** (-self.digits)) & (abs_vals > 0)).any()\n",
      "/usr/local/lib/python3.11/dist-packages/pandas/io/formats/format.py:1459: RuntimeWarning: invalid value encountered in greater\n",
      "  has_small_values = ((abs_vals < 10 ** (-self.digits)) & (abs_vals > 0)).any()\n"
     ]
    },
    {
     "data": {
      "text/html": [
       "<div>\n",
       "<style scoped>\n",
       "    .dataframe tbody tr th:only-of-type {\n",
       "        vertical-align: middle;\n",
       "    }\n",
       "\n",
       "    .dataframe tbody tr th {\n",
       "        vertical-align: top;\n",
       "    }\n",
       "\n",
       "    .dataframe thead th {\n",
       "        text-align: right;\n",
       "    }\n",
       "</style>\n",
       "<table border=\"1\" class=\"dataframe\">\n",
       "  <thead>\n",
       "    <tr style=\"text-align: right;\">\n",
       "      <th></th>\n",
       "      <th>App</th>\n",
       "      <th>Category</th>\n",
       "      <th>Rating</th>\n",
       "      <th>Reviews</th>\n",
       "      <th>Size</th>\n",
       "      <th>Installs</th>\n",
       "      <th>Type</th>\n",
       "      <th>Price</th>\n",
       "      <th>Content Rating</th>\n",
       "      <th>Genres</th>\n",
       "      <th>Last Updated</th>\n",
       "      <th>Current Ver</th>\n",
       "      <th>Android Ver</th>\n",
       "      <th>Day</th>\n",
       "      <th>Month</th>\n",
       "      <th>Year</th>\n",
       "    </tr>\n",
       "  </thead>\n",
       "  <tbody>\n",
       "    <tr>\n",
       "      <th>350</th>\n",
       "      <td>Web Browser &amp; Explorer</td>\n",
       "      <td>COMMUNICATION</td>\n",
       "      <td>4.0</td>\n",
       "      <td>36901</td>\n",
       "      <td>6.6</td>\n",
       "      <td>5000000</td>\n",
       "      <td>Free</td>\n",
       "      <td>0.0</td>\n",
       "      <td>Everyone</td>\n",
       "      <td>Communication</td>\n",
       "      <td>2018-07-04</td>\n",
       "      <td>11.8.6</td>\n",
       "      <td>4.0.3 - 7.1.1</td>\n",
       "      <td>4</td>\n",
       "      <td>7</td>\n",
       "      <td>2018</td>\n",
       "    </tr>\n",
       "    <tr>\n",
       "      <th>352</th>\n",
       "      <td>Browser 4G</td>\n",
       "      <td>COMMUNICATION</td>\n",
       "      <td>4.3</td>\n",
       "      <td>192948</td>\n",
       "      <td>6.6</td>\n",
       "      <td>10000000</td>\n",
       "      <td>Free</td>\n",
       "      <td>0.0</td>\n",
       "      <td>Everyone</td>\n",
       "      <td>Communication</td>\n",
       "      <td>2018-06-19</td>\n",
       "      <td>24.6.6</td>\n",
       "      <td>4.0.3 - 7.1.1</td>\n",
       "      <td>19</td>\n",
       "      <td>6</td>\n",
       "      <td>2018</td>\n",
       "    </tr>\n",
       "    <tr>\n",
       "      <th>1572</th>\n",
       "      <td>ZenUI Safeguard</td>\n",
       "      <td>LIFESTYLE</td>\n",
       "      <td>4.5</td>\n",
       "      <td>100</td>\n",
       "      <td>7.1</td>\n",
       "      <td>1000000</td>\n",
       "      <td>Free</td>\n",
       "      <td>0.0</td>\n",
       "      <td>Everyone</td>\n",
       "      <td>Lifestyle</td>\n",
       "      <td>2018-05-09</td>\n",
       "      <td>1.0.0.21_180410</td>\n",
       "      <td>7.0 - 7.1.1</td>\n",
       "      <td>9</td>\n",
       "      <td>5</td>\n",
       "      <td>2018</td>\n",
       "    </tr>\n",
       "    <tr>\n",
       "      <th>2841</th>\n",
       "      <td>Photo Collage - Layout Editor</td>\n",
       "      <td>PHOTOGRAPHY</td>\n",
       "      <td>4.5</td>\n",
       "      <td>285788</td>\n",
       "      <td>46000.0</td>\n",
       "      <td>10000000</td>\n",
       "      <td>Free</td>\n",
       "      <td>0.0</td>\n",
       "      <td>Everyone</td>\n",
       "      <td>Photography</td>\n",
       "      <td>2017-12-04</td>\n",
       "      <td>1.8.0.170824_9</td>\n",
       "      <td>5.0 - 8.0</td>\n",
       "      <td>4</td>\n",
       "      <td>12</td>\n",
       "      <td>2017</td>\n",
       "    </tr>\n",
       "    <tr>\n",
       "      <th>3474</th>\n",
       "      <td>ASUS Quick Memo</td>\n",
       "      <td>PRODUCTIVITY</td>\n",
       "      <td>4.5</td>\n",
       "      <td>23089</td>\n",
       "      <td>1.6</td>\n",
       "      <td>10000000</td>\n",
       "      <td>Free</td>\n",
       "      <td>0.0</td>\n",
       "      <td>Everyone</td>\n",
       "      <td>Productivity</td>\n",
       "      <td>2018-04-11</td>\n",
       "      <td>1.10.0.33_180403</td>\n",
       "      <td>5.0 - 8.0</td>\n",
       "      <td>11</td>\n",
       "      <td>4</td>\n",
       "      <td>2018</td>\n",
       "    </tr>\n",
       "    <tr>\n",
       "      <th>4151</th>\n",
       "      <td>Google Now Launcher</td>\n",
       "      <td>TOOLS</td>\n",
       "      <td>4.2</td>\n",
       "      <td>857215</td>\n",
       "      <td>7.9</td>\n",
       "      <td>100000000</td>\n",
       "      <td>Free</td>\n",
       "      <td>0.0</td>\n",
       "      <td>Everyone</td>\n",
       "      <td>Tools</td>\n",
       "      <td>2017-12-07</td>\n",
       "      <td>1.4.large</td>\n",
       "      <td>4.1 - 7.1.1</td>\n",
       "      <td>7</td>\n",
       "      <td>12</td>\n",
       "      <td>2017</td>\n",
       "    </tr>\n",
       "    <tr>\n",
       "      <th>7571</th>\n",
       "      <td>My Style CM 13 Theme</td>\n",
       "      <td>PERSONALIZATION</td>\n",
       "      <td>4.5</td>\n",
       "      <td>314</td>\n",
       "      <td>11000.0</td>\n",
       "      <td>10000</td>\n",
       "      <td>Free</td>\n",
       "      <td>0.0</td>\n",
       "      <td>Everyone</td>\n",
       "      <td>Personalization</td>\n",
       "      <td>2016-09-08</td>\n",
       "      <td>1.9</td>\n",
       "      <td>5.0 - 6.0</td>\n",
       "      <td>8</td>\n",
       "      <td>9</td>\n",
       "      <td>2016</td>\n",
       "    </tr>\n",
       "    <tr>\n",
       "      <th>9310</th>\n",
       "      <td>EF Jumper</td>\n",
       "      <td>GAME</td>\n",
       "      <td>NaN</td>\n",
       "      <td>4</td>\n",
       "      <td>5.1</td>\n",
       "      <td>100</td>\n",
       "      <td>Free</td>\n",
       "      <td>0.0</td>\n",
       "      <td>Everyone</td>\n",
       "      <td>Arcade</td>\n",
       "      <td>2017-07-13</td>\n",
       "      <td>Build 12</td>\n",
       "      <td>2.2 - 7.1.1</td>\n",
       "      <td>13</td>\n",
       "      <td>7</td>\n",
       "      <td>2017</td>\n",
       "    </tr>\n",
       "    <tr>\n",
       "      <th>10094</th>\n",
       "      <td>EY Catalyst Reader</td>\n",
       "      <td>BUSINESS</td>\n",
       "      <td>NaN</td>\n",
       "      <td>1</td>\n",
       "      <td>8.4</td>\n",
       "      <td>5</td>\n",
       "      <td>Free</td>\n",
       "      <td>0.0</td>\n",
       "      <td>Everyone</td>\n",
       "      <td>Business</td>\n",
       "      <td>2018-04-10</td>\n",
       "      <td>1.2.1</td>\n",
       "      <td>5.0 - 7.1.1</td>\n",
       "      <td>10</td>\n",
       "      <td>4</td>\n",
       "      <td>2018</td>\n",
       "    </tr>\n",
       "  </tbody>\n",
       "</table>\n",
       "</div>"
      ],
      "text/plain": [
       "                                 App         Category  Rating  Reviews  \\\n",
       "350           Web Browser & Explorer    COMMUNICATION     4.0    36901   \n",
       "352                       Browser 4G    COMMUNICATION     4.3   192948   \n",
       "1572                 ZenUI Safeguard        LIFESTYLE     4.5      100   \n",
       "2841   Photo Collage - Layout Editor      PHOTOGRAPHY     4.5   285788   \n",
       "3474                 ASUS Quick Memo     PRODUCTIVITY     4.5    23089   \n",
       "4151             Google Now Launcher            TOOLS     4.2   857215   \n",
       "7571            My Style CM 13 Theme  PERSONALIZATION     4.5      314   \n",
       "9310                       EF Jumper             GAME     NaN        4   \n",
       "10094             EY Catalyst Reader         BUSINESS     NaN        1   \n",
       "\n",
       "          Size   Installs  Type  Price Content Rating           Genres  \\\n",
       "350        6.6    5000000  Free    0.0       Everyone    Communication   \n",
       "352        6.6   10000000  Free    0.0       Everyone    Communication   \n",
       "1572       7.1    1000000  Free    0.0       Everyone        Lifestyle   \n",
       "2841   46000.0   10000000  Free    0.0       Everyone      Photography   \n",
       "3474       1.6   10000000  Free    0.0       Everyone     Productivity   \n",
       "4151       7.9  100000000  Free    0.0       Everyone            Tools   \n",
       "7571   11000.0      10000  Free    0.0       Everyone  Personalization   \n",
       "9310       5.1        100  Free    0.0       Everyone           Arcade   \n",
       "10094      8.4          5  Free    0.0       Everyone         Business   \n",
       "\n",
       "      Last Updated       Current Ver    Android Ver  Day  Month  Year  \n",
       "350     2018-07-04            11.8.6  4.0.3 - 7.1.1    4      7  2018  \n",
       "352     2018-06-19            24.6.6  4.0.3 - 7.1.1   19      6  2018  \n",
       "1572    2018-05-09   1.0.0.21_180410    7.0 - 7.1.1    9      5  2018  \n",
       "2841    2017-12-04    1.8.0.170824_9      5.0 - 8.0    4     12  2017  \n",
       "3474    2018-04-11  1.10.0.33_180403      5.0 - 8.0   11      4  2018  \n",
       "4151    2017-12-07         1.4.large    4.1 - 7.1.1    7     12  2017  \n",
       "7571    2016-09-08               1.9      5.0 - 6.0    8      9  2016  \n",
       "9310    2017-07-13          Build 12    2.2 - 7.1.1   13      7  2017  \n",
       "10094   2018-04-10             1.2.1    5.0 - 7.1.1   10      4  2018  "
      ]
     },
     "execution_count": 69,
     "metadata": {},
     "output_type": "execute_result"
    }
   ],
   "source": [
    "df_clean.loc[df_clean['Android Ver'].str.contains('-') == True]"
   ]
  },
  {
   "cell_type": "code",
   "execution_count": 70,
   "id": "efad7404",
   "metadata": {
    "execution": {
     "iopub.execute_input": "2025-10-01T23:24:30.863848Z",
     "iopub.status.busy": "2025-10-01T23:24:30.863184Z",
     "iopub.status.idle": "2025-10-01T23:24:30.873449Z",
     "shell.execute_reply": "2025-10-01T23:24:30.872814Z"
    },
    "papermill": {
     "duration": 0.038838,
     "end_time": "2025-10-01T23:24:30.874861",
     "exception": false,
     "start_time": "2025-10-01T23:24:30.836023",
     "status": "completed"
    },
    "tags": []
   },
   "outputs": [],
   "source": [
    "df_clean=df_clean.loc[df_clean['Android Ver'].str.contains('-') == False]"
   ]
  },
  {
   "cell_type": "code",
   "execution_count": 71,
   "id": "1c96dc08",
   "metadata": {
    "execution": {
     "iopub.execute_input": "2025-10-01T23:24:30.927289Z",
     "iopub.status.busy": "2025-10-01T23:24:30.927012Z",
     "iopub.status.idle": "2025-10-01T23:24:30.935164Z",
     "shell.execute_reply": "2025-10-01T23:24:30.934271Z"
    },
    "papermill": {
     "duration": 0.035936,
     "end_time": "2025-10-01T23:24:30.936508",
     "exception": false,
     "start_time": "2025-10-01T23:24:30.900572",
     "status": "completed"
    },
    "tags": []
   },
   "outputs": [
    {
     "data": {
      "text/plain": [
       "Android Ver\n",
       "4.1       2202\n",
       "4.0.3     1395\n",
       "4.0       1285\n",
       "4.4        829\n",
       "2.3        616\n",
       "5.0        512\n",
       "4.2        372\n",
       "2.3.3      273\n",
       "2.2        239\n",
       "3.0        231\n",
       "4.3        221\n",
       "2.1        133\n",
       "1.6        116\n",
       "6.0         54\n",
       "7.0         42\n",
       "3.2         36\n",
       "2.0         32\n",
       "5.1         22\n",
       "1.5         20\n",
       "3.1         10\n",
       "2.0.1        7\n",
       "8.0          6\n",
       "7.1          3\n",
       "1.0          2\n",
       "Name: count, dtype: int64"
      ]
     },
     "execution_count": 71,
     "metadata": {},
     "output_type": "execute_result"
    }
   ],
   "source": [
    "df_clean['Android Ver'].value_counts()"
   ]
  },
  {
   "cell_type": "code",
   "execution_count": 72,
   "id": "2cf38e77",
   "metadata": {
    "execution": {
     "iopub.execute_input": "2025-10-01T23:24:30.989709Z",
     "iopub.status.busy": "2025-10-01T23:24:30.989415Z",
     "iopub.status.idle": "2025-10-01T23:24:31.004052Z",
     "shell.execute_reply": "2025-10-01T23:24:31.002708Z"
    },
    "papermill": {
     "duration": 0.043097,
     "end_time": "2025-10-01T23:24:31.005498",
     "exception": false,
     "start_time": "2025-10-01T23:24:30.962401",
     "status": "completed"
    },
    "tags": []
   },
   "outputs": [
    {
     "name": "stdout",
     "output_type": "stream",
     "text": [
      "<class 'pandas.core.frame.DataFrame'>\n",
      "Index: 8658 entries, 0 to 10838\n",
      "Data columns (total 16 columns):\n",
      " #   Column          Non-Null Count  Dtype         \n",
      "---  ------          --------------  -----         \n",
      " 0   App             8658 non-null   object        \n",
      " 1   Category        8658 non-null   object        \n",
      " 2   Rating          7240 non-null   float64       \n",
      " 3   Reviews         8658 non-null   int64         \n",
      " 4   Size            8375 non-null   float64       \n",
      " 5   Installs        8658 non-null   int64         \n",
      " 6   Type            8658 non-null   object        \n",
      " 7   Price           8658 non-null   float64       \n",
      " 8   Content Rating  8658 non-null   object        \n",
      " 9   Genres          8658 non-null   object        \n",
      " 10  Last Updated    8658 non-null   datetime64[ns]\n",
      " 11  Current Ver     8650 non-null   object        \n",
      " 12  Android Ver     8658 non-null   object        \n",
      " 13  Day             8658 non-null   int32         \n",
      " 14  Month           8658 non-null   int32         \n",
      " 15  Year            8658 non-null   int32         \n",
      "dtypes: datetime64[ns](1), float64(3), int32(3), int64(2), object(7)\n",
      "memory usage: 1.0+ MB\n"
     ]
    }
   ],
   "source": [
    "df_clean.info()"
   ]
  },
  {
   "cell_type": "code",
   "execution_count": 73,
   "id": "da3cdd57",
   "metadata": {
    "execution": {
     "iopub.execute_input": "2025-10-01T23:24:31.060388Z",
     "iopub.status.busy": "2025-10-01T23:24:31.059630Z",
     "iopub.status.idle": "2025-10-01T23:24:31.063178Z",
     "shell.execute_reply": "2025-10-01T23:24:31.062495Z"
    },
    "papermill": {
     "duration": 0.031969,
     "end_time": "2025-10-01T23:24:31.064422",
     "exception": false,
     "start_time": "2025-10-01T23:24:31.032453",
     "status": "completed"
    },
    "tags": []
   },
   "outputs": [],
   "source": [
    "#Target mean encoding in genres"
   ]
  },
  {
   "cell_type": "code",
   "execution_count": 74,
   "id": "83ca5409",
   "metadata": {
    "execution": {
     "iopub.execute_input": "2025-10-01T23:24:31.116676Z",
     "iopub.status.busy": "2025-10-01T23:24:31.116402Z",
     "iopub.status.idle": "2025-10-01T23:24:31.124470Z",
     "shell.execute_reply": "2025-10-01T23:24:31.123507Z"
    },
    "papermill": {
     "duration": 0.036326,
     "end_time": "2025-10-01T23:24:31.125948",
     "exception": false,
     "start_time": "2025-10-01T23:24:31.089622",
     "status": "completed"
    },
    "tags": []
   },
   "outputs": [],
   "source": [
    "mean_genres_installs = df_clean.groupby(\"Genres\")[\"Installs\"].mean()/1_000_000"
   ]
  },
  {
   "cell_type": "code",
   "execution_count": 75,
   "id": "9ad16f67",
   "metadata": {
    "execution": {
     "iopub.execute_input": "2025-10-01T23:24:31.180246Z",
     "iopub.status.busy": "2025-10-01T23:24:31.179951Z",
     "iopub.status.idle": "2025-10-01T23:24:31.186991Z",
     "shell.execute_reply": "2025-10-01T23:24:31.186331Z"
    },
    "papermill": {
     "duration": 0.036129,
     "end_time": "2025-10-01T23:24:31.188366",
     "exception": false,
     "start_time": "2025-10-01T23:24:31.152237",
     "status": "completed"
    },
    "tags": []
   },
   "outputs": [
    {
     "data": {
      "text/plain": [
       "Genres\n",
       "Action                                   11.255844\n",
       "Action;Action & Adventure                 3.910955\n",
       "Adventure                                 4.064319\n",
       "Adventure;Action & Adventure             21.230000\n",
       "Adventure;Brain Games                     0.100000\n",
       "                                           ...    \n",
       "Video Players & Editors                   7.093219\n",
       "Video Players & Editors;Creativity        5.000000\n",
       "Video Players & Editors;Music & Video     5.000000\n",
       "Weather                                   2.270176\n",
       "Word                                      5.208628\n",
       "Name: Installs, Length: 117, dtype: float64"
      ]
     },
     "execution_count": 75,
     "metadata": {},
     "output_type": "execute_result"
    }
   ],
   "source": [
    "mean_genres_installs"
   ]
  },
  {
   "cell_type": "code",
   "execution_count": 76,
   "id": "1c063333",
   "metadata": {
    "execution": {
     "iopub.execute_input": "2025-10-01T23:24:31.241987Z",
     "iopub.status.busy": "2025-10-01T23:24:31.241638Z",
     "iopub.status.idle": "2025-10-01T23:24:31.246395Z",
     "shell.execute_reply": "2025-10-01T23:24:31.245281Z"
    },
    "papermill": {
     "duration": 0.034143,
     "end_time": "2025-10-01T23:24:31.247952",
     "exception": false,
     "start_time": "2025-10-01T23:24:31.213809",
     "status": "completed"
    },
    "tags": []
   },
   "outputs": [],
   "source": [
    "mean_genres_installs = mean_genres_installs.to_dict()"
   ]
  },
  {
   "cell_type": "code",
   "execution_count": 77,
   "id": "fe4485a8",
   "metadata": {
    "execution": {
     "iopub.execute_input": "2025-10-01T23:24:31.301593Z",
     "iopub.status.busy": "2025-10-01T23:24:31.300685Z",
     "iopub.status.idle": "2025-10-01T23:24:31.307274Z",
     "shell.execute_reply": "2025-10-01T23:24:31.306389Z"
    },
    "papermill": {
     "duration": 0.035632,
     "end_time": "2025-10-01T23:24:31.309339",
     "exception": false,
     "start_time": "2025-10-01T23:24:31.273707",
     "status": "completed"
    },
    "tags": []
   },
   "outputs": [],
   "source": [
    "df_clean[\"Genres Encoded\"] = df_clean[\"Genres\"].map(mean_genres_installs)"
   ]
  },
  {
   "cell_type": "code",
   "execution_count": 78,
   "id": "bfa3a2ae",
   "metadata": {
    "execution": {
     "iopub.execute_input": "2025-10-01T23:24:31.365537Z",
     "iopub.status.busy": "2025-10-01T23:24:31.365218Z",
     "iopub.status.idle": "2025-10-01T23:24:31.371818Z",
     "shell.execute_reply": "2025-10-01T23:24:31.371142Z"
    },
    "papermill": {
     "duration": 0.037524,
     "end_time": "2025-10-01T23:24:31.373007",
     "exception": false,
     "start_time": "2025-10-01T23:24:31.335483",
     "status": "completed"
    },
    "tags": []
   },
   "outputs": [
    {
     "data": {
      "text/plain": [
       "0        1.830859\n",
       "1        0.500000\n",
       "2        1.830859\n",
       "3        1.830859\n",
       "4        0.285000\n",
       "           ...   \n",
       "10834    0.360664\n",
       "10835    1.034710\n",
       "10836    0.360664\n",
       "10837    0.360664\n",
       "10838    0.092978\n",
       "Name: Genres Encoded, Length: 8658, dtype: float64"
      ]
     },
     "execution_count": 78,
     "metadata": {},
     "output_type": "execute_result"
    }
   ],
   "source": [
    "df_clean[\"Genres Encoded\"]"
   ]
  },
  {
   "cell_type": "code",
   "execution_count": 79,
   "id": "eb6f70e3",
   "metadata": {
    "execution": {
     "iopub.execute_input": "2025-10-01T23:24:31.426862Z",
     "iopub.status.busy": "2025-10-01T23:24:31.426555Z",
     "iopub.status.idle": "2025-10-01T23:24:31.446778Z",
     "shell.execute_reply": "2025-10-01T23:24:31.445817Z"
    },
    "papermill": {
     "duration": 0.049558,
     "end_time": "2025-10-01T23:24:31.448546",
     "exception": false,
     "start_time": "2025-10-01T23:24:31.398988",
     "status": "completed"
    },
    "tags": []
   },
   "outputs": [
    {
     "name": "stderr",
     "output_type": "stream",
     "text": [
      "/usr/local/lib/python3.11/dist-packages/pandas/io/formats/format.py:1458: RuntimeWarning: invalid value encountered in greater\n",
      "  has_large_values = (abs_vals > 1e6).any()\n",
      "/usr/local/lib/python3.11/dist-packages/pandas/io/formats/format.py:1459: RuntimeWarning: invalid value encountered in less\n",
      "  has_small_values = ((abs_vals < 10 ** (-self.digits)) & (abs_vals > 0)).any()\n",
      "/usr/local/lib/python3.11/dist-packages/pandas/io/formats/format.py:1459: RuntimeWarning: invalid value encountered in greater\n",
      "  has_small_values = ((abs_vals < 10 ** (-self.digits)) & (abs_vals > 0)).any()\n"
     ]
    },
    {
     "data": {
      "text/html": [
       "<div>\n",
       "<style scoped>\n",
       "    .dataframe tbody tr th:only-of-type {\n",
       "        vertical-align: middle;\n",
       "    }\n",
       "\n",
       "    .dataframe tbody tr th {\n",
       "        vertical-align: top;\n",
       "    }\n",
       "\n",
       "    .dataframe thead th {\n",
       "        text-align: right;\n",
       "    }\n",
       "</style>\n",
       "<table border=\"1\" class=\"dataframe\">\n",
       "  <thead>\n",
       "    <tr style=\"text-align: right;\">\n",
       "      <th></th>\n",
       "      <th>App</th>\n",
       "      <th>Category</th>\n",
       "      <th>Rating</th>\n",
       "      <th>Reviews</th>\n",
       "      <th>Size</th>\n",
       "      <th>Installs</th>\n",
       "      <th>Type</th>\n",
       "      <th>Price</th>\n",
       "      <th>Content Rating</th>\n",
       "      <th>Genres</th>\n",
       "      <th>Last Updated</th>\n",
       "      <th>Current Ver</th>\n",
       "      <th>Android Ver</th>\n",
       "      <th>Day</th>\n",
       "      <th>Month</th>\n",
       "      <th>Year</th>\n",
       "      <th>Genres Encoded</th>\n",
       "    </tr>\n",
       "  </thead>\n",
       "  <tbody>\n",
       "    <tr>\n",
       "      <th>0</th>\n",
       "      <td>Photo Editor &amp; Candy Camera &amp; Grid &amp; ScrapBook</td>\n",
       "      <td>ART_AND_DESIGN</td>\n",
       "      <td>4.1</td>\n",
       "      <td>159</td>\n",
       "      <td>19000.0</td>\n",
       "      <td>10000</td>\n",
       "      <td>Free</td>\n",
       "      <td>0.0</td>\n",
       "      <td>Everyone</td>\n",
       "      <td>Art &amp; Design</td>\n",
       "      <td>2018-01-07</td>\n",
       "      <td>1.0.0</td>\n",
       "      <td>4.0.3</td>\n",
       "      <td>7</td>\n",
       "      <td>1</td>\n",
       "      <td>2018</td>\n",
       "      <td>1.830859</td>\n",
       "    </tr>\n",
       "    <tr>\n",
       "      <th>1</th>\n",
       "      <td>Coloring book moana</td>\n",
       "      <td>ART_AND_DESIGN</td>\n",
       "      <td>3.9</td>\n",
       "      <td>967</td>\n",
       "      <td>14000.0</td>\n",
       "      <td>500000</td>\n",
       "      <td>Free</td>\n",
       "      <td>0.0</td>\n",
       "      <td>Everyone</td>\n",
       "      <td>Art &amp; Design;Pretend Play</td>\n",
       "      <td>2018-01-15</td>\n",
       "      <td>2.0.0</td>\n",
       "      <td>4.0.3</td>\n",
       "      <td>15</td>\n",
       "      <td>1</td>\n",
       "      <td>2018</td>\n",
       "      <td>0.500000</td>\n",
       "    </tr>\n",
       "    <tr>\n",
       "      <th>2</th>\n",
       "      <td>U Launcher Lite – FREE Live Cool Themes, Hide ...</td>\n",
       "      <td>ART_AND_DESIGN</td>\n",
       "      <td>4.7</td>\n",
       "      <td>87510</td>\n",
       "      <td>8.7</td>\n",
       "      <td>5000000</td>\n",
       "      <td>Free</td>\n",
       "      <td>0.0</td>\n",
       "      <td>Everyone</td>\n",
       "      <td>Art &amp; Design</td>\n",
       "      <td>2018-08-01</td>\n",
       "      <td>1.2.4</td>\n",
       "      <td>4.0.3</td>\n",
       "      <td>1</td>\n",
       "      <td>8</td>\n",
       "      <td>2018</td>\n",
       "      <td>1.830859</td>\n",
       "    </tr>\n",
       "    <tr>\n",
       "      <th>3</th>\n",
       "      <td>Sketch - Draw &amp; Paint</td>\n",
       "      <td>ART_AND_DESIGN</td>\n",
       "      <td>4.5</td>\n",
       "      <td>215644</td>\n",
       "      <td>25000.0</td>\n",
       "      <td>50000000</td>\n",
       "      <td>Free</td>\n",
       "      <td>0.0</td>\n",
       "      <td>Teen</td>\n",
       "      <td>Art &amp; Design</td>\n",
       "      <td>2018-06-08</td>\n",
       "      <td>Varies with device</td>\n",
       "      <td>4.2</td>\n",
       "      <td>8</td>\n",
       "      <td>6</td>\n",
       "      <td>2018</td>\n",
       "      <td>1.830859</td>\n",
       "    </tr>\n",
       "    <tr>\n",
       "      <th>4</th>\n",
       "      <td>Pixel Draw - Number Art Coloring Book</td>\n",
       "      <td>ART_AND_DESIGN</td>\n",
       "      <td>4.3</td>\n",
       "      <td>967</td>\n",
       "      <td>2.8</td>\n",
       "      <td>100000</td>\n",
       "      <td>Free</td>\n",
       "      <td>0.0</td>\n",
       "      <td>Everyone</td>\n",
       "      <td>Art &amp; Design;Creativity</td>\n",
       "      <td>2018-06-20</td>\n",
       "      <td>1.1</td>\n",
       "      <td>4.4</td>\n",
       "      <td>20</td>\n",
       "      <td>6</td>\n",
       "      <td>2018</td>\n",
       "      <td>0.285000</td>\n",
       "    </tr>\n",
       "    <tr>\n",
       "      <th>...</th>\n",
       "      <td>...</td>\n",
       "      <td>...</td>\n",
       "      <td>...</td>\n",
       "      <td>...</td>\n",
       "      <td>...</td>\n",
       "      <td>...</td>\n",
       "      <td>...</td>\n",
       "      <td>...</td>\n",
       "      <td>...</td>\n",
       "      <td>...</td>\n",
       "      <td>...</td>\n",
       "      <td>...</td>\n",
       "      <td>...</td>\n",
       "      <td>...</td>\n",
       "      <td>...</td>\n",
       "      <td>...</td>\n",
       "      <td>...</td>\n",
       "    </tr>\n",
       "    <tr>\n",
       "      <th>10834</th>\n",
       "      <td>FR Calculator</td>\n",
       "      <td>FAMILY</td>\n",
       "      <td>4.0</td>\n",
       "      <td>7</td>\n",
       "      <td>2.6</td>\n",
       "      <td>500</td>\n",
       "      <td>Free</td>\n",
       "      <td>0.0</td>\n",
       "      <td>Everyone</td>\n",
       "      <td>Education</td>\n",
       "      <td>2017-06-18</td>\n",
       "      <td>1.0.0</td>\n",
       "      <td>4.1</td>\n",
       "      <td>18</td>\n",
       "      <td>6</td>\n",
       "      <td>2017</td>\n",
       "      <td>0.360664</td>\n",
       "    </tr>\n",
       "    <tr>\n",
       "      <th>10835</th>\n",
       "      <td>FR Forms</td>\n",
       "      <td>BUSINESS</td>\n",
       "      <td>NaN</td>\n",
       "      <td>0</td>\n",
       "      <td>9.6</td>\n",
       "      <td>10</td>\n",
       "      <td>Free</td>\n",
       "      <td>0.0</td>\n",
       "      <td>Everyone</td>\n",
       "      <td>Business</td>\n",
       "      <td>2016-09-29</td>\n",
       "      <td>1.1.5</td>\n",
       "      <td>4.0</td>\n",
       "      <td>29</td>\n",
       "      <td>9</td>\n",
       "      <td>2016</td>\n",
       "      <td>1.034710</td>\n",
       "    </tr>\n",
       "    <tr>\n",
       "      <th>10836</th>\n",
       "      <td>Sya9a Maroc - FR</td>\n",
       "      <td>FAMILY</td>\n",
       "      <td>4.5</td>\n",
       "      <td>38</td>\n",
       "      <td>53000.0</td>\n",
       "      <td>5000</td>\n",
       "      <td>Free</td>\n",
       "      <td>0.0</td>\n",
       "      <td>Everyone</td>\n",
       "      <td>Education</td>\n",
       "      <td>2017-07-25</td>\n",
       "      <td>1.48</td>\n",
       "      <td>4.1</td>\n",
       "      <td>25</td>\n",
       "      <td>7</td>\n",
       "      <td>2017</td>\n",
       "      <td>0.360664</td>\n",
       "    </tr>\n",
       "    <tr>\n",
       "      <th>10837</th>\n",
       "      <td>Fr. Mike Schmitz Audio Teachings</td>\n",
       "      <td>FAMILY</td>\n",
       "      <td>5.0</td>\n",
       "      <td>4</td>\n",
       "      <td>3.6</td>\n",
       "      <td>100</td>\n",
       "      <td>Free</td>\n",
       "      <td>0.0</td>\n",
       "      <td>Everyone</td>\n",
       "      <td>Education</td>\n",
       "      <td>2018-07-06</td>\n",
       "      <td>1.0</td>\n",
       "      <td>4.1</td>\n",
       "      <td>6</td>\n",
       "      <td>7</td>\n",
       "      <td>2018</td>\n",
       "      <td>0.360664</td>\n",
       "    </tr>\n",
       "    <tr>\n",
       "      <th>10838</th>\n",
       "      <td>Parkinson Exercices FR</td>\n",
       "      <td>MEDICAL</td>\n",
       "      <td>NaN</td>\n",
       "      <td>3</td>\n",
       "      <td>9.5</td>\n",
       "      <td>1000</td>\n",
       "      <td>Free</td>\n",
       "      <td>0.0</td>\n",
       "      <td>Everyone</td>\n",
       "      <td>Medical</td>\n",
       "      <td>2017-01-20</td>\n",
       "      <td>1.0</td>\n",
       "      <td>2.2</td>\n",
       "      <td>20</td>\n",
       "      <td>1</td>\n",
       "      <td>2017</td>\n",
       "      <td>0.092978</td>\n",
       "    </tr>\n",
       "  </tbody>\n",
       "</table>\n",
       "<p>8658 rows × 17 columns</p>\n",
       "</div>"
      ],
      "text/plain": [
       "                                                     App        Category  \\\n",
       "0         Photo Editor & Candy Camera & Grid & ScrapBook  ART_AND_DESIGN   \n",
       "1                                    Coloring book moana  ART_AND_DESIGN   \n",
       "2      U Launcher Lite – FREE Live Cool Themes, Hide ...  ART_AND_DESIGN   \n",
       "3                                  Sketch - Draw & Paint  ART_AND_DESIGN   \n",
       "4                  Pixel Draw - Number Art Coloring Book  ART_AND_DESIGN   \n",
       "...                                                  ...             ...   \n",
       "10834                                      FR Calculator          FAMILY   \n",
       "10835                                           FR Forms        BUSINESS   \n",
       "10836                                   Sya9a Maroc - FR          FAMILY   \n",
       "10837                   Fr. Mike Schmitz Audio Teachings          FAMILY   \n",
       "10838                             Parkinson Exercices FR         MEDICAL   \n",
       "\n",
       "       Rating  Reviews     Size  Installs  Type  Price Content Rating  \\\n",
       "0         4.1      159  19000.0     10000  Free    0.0       Everyone   \n",
       "1         3.9      967  14000.0    500000  Free    0.0       Everyone   \n",
       "2         4.7    87510      8.7   5000000  Free    0.0       Everyone   \n",
       "3         4.5   215644  25000.0  50000000  Free    0.0           Teen   \n",
       "4         4.3      967      2.8    100000  Free    0.0       Everyone   \n",
       "...       ...      ...      ...       ...   ...    ...            ...   \n",
       "10834     4.0        7      2.6       500  Free    0.0       Everyone   \n",
       "10835     NaN        0      9.6        10  Free    0.0       Everyone   \n",
       "10836     4.5       38  53000.0      5000  Free    0.0       Everyone   \n",
       "10837     5.0        4      3.6       100  Free    0.0       Everyone   \n",
       "10838     NaN        3      9.5      1000  Free    0.0       Everyone   \n",
       "\n",
       "                          Genres Last Updated         Current Ver Android Ver  \\\n",
       "0                   Art & Design   2018-01-07               1.0.0      4.0.3    \n",
       "1      Art & Design;Pretend Play   2018-01-15               2.0.0      4.0.3    \n",
       "2                   Art & Design   2018-08-01               1.2.4      4.0.3    \n",
       "3                   Art & Design   2018-06-08  Varies with device        4.2    \n",
       "4        Art & Design;Creativity   2018-06-20                 1.1        4.4    \n",
       "...                          ...          ...                 ...         ...   \n",
       "10834                  Education   2017-06-18               1.0.0        4.1    \n",
       "10835                   Business   2016-09-29               1.1.5        4.0    \n",
       "10836                  Education   2017-07-25                1.48        4.1    \n",
       "10837                  Education   2018-07-06                 1.0        4.1    \n",
       "10838                    Medical   2017-01-20                 1.0        2.2    \n",
       "\n",
       "       Day  Month  Year  Genres Encoded  \n",
       "0        7      1  2018        1.830859  \n",
       "1       15      1  2018        0.500000  \n",
       "2        1      8  2018        1.830859  \n",
       "3        8      6  2018        1.830859  \n",
       "4       20      6  2018        0.285000  \n",
       "...    ...    ...   ...             ...  \n",
       "10834   18      6  2017        0.360664  \n",
       "10835   29      9  2016        1.034710  \n",
       "10836   25      7  2017        0.360664  \n",
       "10837    6      7  2018        0.360664  \n",
       "10838   20      1  2017        0.092978  \n",
       "\n",
       "[8658 rows x 17 columns]"
      ]
     },
     "execution_count": 79,
     "metadata": {},
     "output_type": "execute_result"
    }
   ],
   "source": [
    "df_clean"
   ]
  },
  {
   "cell_type": "code",
   "execution_count": null,
   "id": "3af70ba1",
   "metadata": {
    "papermill": {
     "duration": 0.027115,
     "end_time": "2025-10-01T23:24:31.503691",
     "exception": false,
     "start_time": "2025-10-01T23:24:31.476576",
     "status": "completed"
    },
    "tags": []
   },
   "outputs": [],
   "source": []
  }
 ],
 "metadata": {
  "kaggle": {
   "accelerator": "none",
   "dataSources": [
    {
     "datasetId": 49864,
     "sourceId": 274957,
     "sourceType": "datasetVersion"
    }
   ],
   "dockerImageVersionId": 31089,
   "isGpuEnabled": false,
   "isInternetEnabled": true,
   "language": "python",
   "sourceType": "notebook"
  },
  "kernelspec": {
   "display_name": "Python 3",
   "language": "python",
   "name": "python3"
  },
  "language_info": {
   "codemirror_mode": {
    "name": "ipython",
    "version": 3
   },
   "file_extension": ".py",
   "mimetype": "text/x-python",
   "name": "python",
   "nbconvert_exporter": "python",
   "pygments_lexer": "ipython3",
   "version": "3.11.13"
  },
  "papermill": {
   "default_parameters": {},
   "duration": 18.84589,
   "end_time": "2025-10-01T23:24:32.251696",
   "environment_variables": {},
   "exception": null,
   "input_path": "__notebook__.ipynb",
   "output_path": "__notebook__.ipynb",
   "parameters": {},
   "start_time": "2025-10-01T23:24:13.405806",
   "version": "2.6.0"
  }
 },
 "nbformat": 4,
 "nbformat_minor": 5
}
